{
 "cells": [
  {
   "cell_type": "markdown",
   "metadata": {},
   "source": [
    "# Sieci neuronowe"
   ]
  },
  {
   "cell_type": "markdown",
   "metadata": {},
   "source": [
    "## Wstęp\n",
    "\n",
    "Celem laboratorium jest zapoznanie się z podstawami sieci neuronowych oraz uczeniem głębokim (*deep learning*). Zapoznasz się na nim z następującymi tematami:\n",
    "- treningiem prostych sieci neuronowych, w szczególności z:\n",
    "  - regresją liniową w sieciach neuronowych\n",
    "  - optymalizacją funkcji kosztu\n",
    "  - algorytmem spadku wzdłuż gradientu\n",
    "  - siecią typu Multilayer Perceptron (MLP)\n",
    "- frameworkiem PyTorch, w szczególności z:\n",
    "  - ładowaniem danych\n",
    "  - preprocessingiem danych\n",
    "  - pisaniem pętli treningowej i walidacyjnej\n",
    "  - walidacją modeli\n",
    "- architekturą i hiperaprametrami sieci MLP, w szczególności z:\n",
    "  - warstwami gęstymi (w pełni połączonymi)\n",
    "  - funkcjami aktywacji\n",
    "  - regularyzacją: L2, dropout"
   ]
  },
  {
   "cell_type": "markdown",
   "metadata": {},
   "source": [
    "## Wykorzystywane biblioteki\n",
    "\n",
    "Zaczniemy od pisania ręcznie prostych sieci w bibliotece Numpy, służącej do obliczeń numerycznych na CPU. Później przejdziemy do wykorzystywania frameworka PyTorch, służącego do obliczeń numerycznych na CPU, GPU oraz automatycznego różniczkowania, wykorzystywanego głównie do treningu sieci neuronowych.\n",
    "\n",
    "Wykorzystamy PyTorcha ze względu na popularność, łatwość instalacji i użycia, oraz dużą kontrolę nad niskopoziomowymi aspektami budowy i treningu sieci neuronowych. Framework ten został stworzony do zastosowań badawczych i naukowych, ale ze względu na wygodę użycia stał się bardzo popularny także w przemyśle. W szczególności całkowicie zdominował przetwarzanie języka naturalnego (NLP) oraz uczenie na grafach.\n",
    "\n",
    "Pierwszy duży framework do deep learningu, oraz obecnie najpopularniejszy, to TensorFlow, wraz z wysokopoziomową nakładką Keras. Są jednak szanse, że Google (autorzy) będzie go powoli porzucać na rzecz ich nowego frameworka JAX ([dyskusja](https://www.reddit.com/r/MachineLearning/comments/vfl57t/d_google_quietly_moving_its_products_from/), [artykuł Business Insidera](https://www.businessinsider.com/facebook-pytorch-beat-google-tensorflow-jax-meta-ai-2022-6?IR=T)), który jest bardzo świeżym, ale ciekawym narzędziem.\n",
    "\n",
    "Trzecia, ale znacznie mniej popularna od powyższych opcja to Apache MXNet."
   ]
  },
  {
   "cell_type": "markdown",
   "metadata": {},
   "source": [
    "## Konfiguracja własnego komputera\n",
    "\n",
    "Jeżeli korzystasz z własnego komputera, to musisz zainstalować trochę więcej bibliotek (Google Colab ma je już zainstalowane).\n",
    "\n",
    "Jeżeli nie masz GPU lub nie chcesz z niego korzystać, to wystarczy znaleźć odpowiednią komendę CPU [na stronie PyTorcha](https://pytorch.org/get-started/locally/). Dla Anacondy odpowiednia komenda została podana poniżej, dla pip'a znajdź ją na stronie.\n",
    "\n",
    "Jeżeli chcesz korzystać ze wsparcia GPU (na tym laboratorium nie będzie potrzebne, na kolejnych może przyspieszyć nieco obliczenia), to musi być to odpowiednio nowa karta NVidii, mająca CUDA compatibility ([lista](https://developer.nvidia.com/cuda-gpus)). Poza PyTorchem będzie potrzebne narzędzie NVidia CUDA w wersji 11.6 lub 11.7. Instalacja na Windowsie jest bardzo prosta (wystarczy ściągnąć plik EXE i zainstalować jak każdy inny program). Instalacja na Linuxie jest trudna i można względnie łatwo zepsuć sobie system, ale jeżeli chcesz spróbować, to [ten tutorial](https://www.youtube.com/results?search_query=nvidia+cuda+install+ubuntu+20.04) jest bardzo dobry."
   ]
  },
  {
   "cell_type": "code",
   "execution_count": 48,
   "metadata": {
    "ExecuteTime": {
     "end_time": "2023-11-29T21:49:01.985259Z",
     "start_time": "2023-11-29T21:49:01.959499Z"
    }
   },
   "outputs": [],
   "source": [
    "# for conda users\n",
    "# !conda install -y matplotlib pandas pytorch torchvision -c pytorch -c conda-forge"
   ]
  },
  {
   "cell_type": "markdown",
   "metadata": {
    "id": "Othm3C2lLAsj"
   },
   "source": [
    "## Wprowadzenie\n",
    "\n",
    "Zanim zaczniemy naszą przygodę z sieciami neuronowymi, przyjrzyjmy się prostemu przykładowi regresji liniowej na syntetycznych danych:"
   ]
  },
  {
   "cell_type": "code",
   "execution_count": 49,
   "metadata": {
    "id": "rnJsfxbnLAsj",
    "ExecuteTime": {
     "end_time": "2023-11-29T21:49:03.484157Z",
     "start_time": "2023-11-29T21:49:03.424675Z"
    }
   },
   "outputs": [],
   "source": [
    "from typing import Tuple, Dict\n",
    "\n",
    "import numpy as np\n",
    "import matplotlib.pyplot as plt"
   ]
  },
  {
   "cell_type": "code",
   "execution_count": 50,
   "metadata": {
    "colab": {
     "base_uri": "https://localhost:8080/",
     "height": 282
    },
    "id": "EaYpEXzBLAsl",
    "outputId": "2f8d2922-72f0-4d38-8548-d1262adf522e",
    "ExecuteTime": {
     "end_time": "2023-11-29T21:49:04.252533Z",
     "start_time": "2023-11-29T21:49:04.077425Z"
    }
   },
   "outputs": [
    {
     "data": {
      "text/plain": "<matplotlib.collections.PathCollection at 0x146c31dd0>"
     },
     "execution_count": 50,
     "metadata": {},
     "output_type": "execute_result"
    },
    {
     "data": {
      "text/plain": "<Figure size 640x480 with 1 Axes>",
      "image/png": "[encoded data removed]"
     },
     "metadata": {},
     "output_type": "display_data"
    }
   ],
   "source": [
    "np.random.seed(0)\n",
    "\n",
    "x = np.linspace(0, 1, 100)\n",
    "y = x + np.random.normal(scale=0.1, size=x.shape)\n",
    "\n",
    "plt.scatter(x, y)"
   ]
  },
  {
   "cell_type": "markdown",
   "metadata": {
    "id": "PEM_-yKELAsl"
   },
   "source": [
    "W przeciwieństwie do laboratorium 1, tym razem będziemy chcieli rozwiązać ten problem własnoręcznie, bez użycia wysokopoziomowego interfejsu Scikit-learn'a. W tym celu musimy sobie przypomnieć sformułowanie naszego **problemu optymalizacyjnego (optimization problem)**.\n",
    "\n",
    "W przypadku prostej regresji liniowej (1 zmienna) mamy model postaci $\\hat{y} = \\alpha x + \\beta$, z dwoma parametrami, których będziemy się uczyć. Miarą niedopasowania modelu o danych parametrach jest **funkcja kosztu (cost function)**, nazywana też funkcją celu. Najczęściej używa się **błędu średniokwadratowego (mean squared error, MSE)**:\n",
    "$$\\large\n",
    "MSE = \\frac{1}{N} \\sum_{i}^{N} (y - \\hat{y})^2\n",
    "$$\n",
    "\n",
    "Od jakich $\\alpha$ i $\\beta$ zacząć? W najprostszym wypadku wystarczy po prostu je wylosować jako niewielkie liczby zmiennoprzecinkowe.\n",
    "\n",
    "#### Zadanie 1 (0.5 punkt)\n",
    "\n",
    "Uzupełnij kod funkcji `mse`, obliczającej błąd średniokwadratowy. Wykorzystaj Numpy'a w celu wektoryzacji obliczeń dla wydajności."
   ]
  },
  {
   "cell_type": "code",
   "execution_count": 51,
   "metadata": {
    "colab": {
     "base_uri": "https://localhost:8080/"
    },
    "id": "RaA7Q46TLAsm",
    "outputId": "5c57fe58-1934-4d21-9a7b-d14e9a23140b",
    "ExecuteTime": {
     "end_time": "2023-11-29T21:49:05.857808Z",
     "start_time": "2023-11-29T21:49:05.792830Z"
    }
   },
   "outputs": [],
   "source": [
    "import numpy as np\n",
    "\n",
    "\n",
    "def mse(y: np.ndarray, y_hat: np.ndarray) -> float:\n",
    "    difference = y_hat - y\n",
    "\n",
    "    return np.mean(np.square(difference))"
   ]
  },
  {
   "cell_type": "code",
   "execution_count": 52,
   "metadata": {
    "colab": {
     "base_uri": "https://localhost:8080/",
     "height": 282
    },
    "id": "qSGfamGbLAsm",
    "outputId": "733ce15f-ae75-466b-e7ee-eb3c9d9d534c",
    "ExecuteTime": {
     "end_time": "2023-11-29T21:49:07.549215Z",
     "start_time": "2023-11-29T21:49:07.281292Z"
    }
   },
   "outputs": [
    {
     "name": "stdout",
     "output_type": "stream",
     "text": [
      "MSE: 0.133\n"
     ]
    },
    {
     "data": {
      "text/plain": "[<matplotlib.lines.Line2D at 0x177c52ad0>]"
     },
     "execution_count": 52,
     "metadata": {},
     "output_type": "execute_result"
    },
    {
     "data": {
      "text/plain": "<Figure size 640x480 with 1 Axes>",
      "image/png": "[encoded data removed]"
     },
     "metadata": {},
     "output_type": "display_data"
    }
   ],
   "source": [
    "a = np.random.rand()\n",
    "b = np.random.rand()\n",
    "print(f\"MSE: {mse(y, a * x + b):.3f}\")\n",
    "\n",
    "plt.scatter(x, y)\n",
    "plt.plot(x, a * x + b, color=\"g\", linewidth=4)"
   ]
  },
  {
   "cell_type": "markdown",
   "metadata": {
    "id": "Y--E9Mp9LAsn"
   },
   "source": [
    "Losowe parametry radzą sobie nie najlepiej. Jak lepiej dopasować naszą prostą do danych? Zawsze możemy starać się wyprowadzić rozwiązanie analitycznie, i w tym wypadku nawet nam się uda. Jest to jednak szczególny i dość rzadki przypadek, a w szczególności nie będzie to możliwe w większych sieciach neuronowych.\n",
    "\n",
    "Potrzebna nam będzie **metoda optymalizacji (optimization method)**, dającą wartości parametrów minimalizujące dowolną różniczkowalną funkcję kosztu. Zdecydowanie najpopularniejszy jest tutaj **spadek wzdłuż gradientu (gradient descent)**.\n",
    "\n",
    "Metoda ta wywodzi się z prostych obserwacji, które tutaj przedstawimy. Bardziej szczegółowe rozwinięcie dla zainteresowanych: [sekcja 4.3 \"Deep Learning Book\"](https://www.deeplearningbook.org/contents/numerical.html), [ten praktyczny kurs](https://cs231n.github.io/optimization-1/), [analiza oryginalnej publikacji Cauchy'ego](https://www.math.uni-bielefeld.de/documenta/vol-ismp/40_lemarechal-claude.pdf) (oryginał w języku francuskim).\n",
    "\n",
    "Pochodna jest dokładnie równa granicy funkcji. Dla małego $\\epsilon$ można ją przybliżyć jako:\n",
    "$$\\large\n",
    "\\frac{f(x)}{dx} \\approx \\frac{f(x+\\epsilon) - f(x)}{\\epsilon}\n",
    "$$\n",
    "\n",
    "Przyglądając się temu równaniu widzimy, że: \n",
    "* dla funkcji rosnącej ($f(x+\\epsilon) > f(x)$) wyrażenie $\\frac{f(x)}{dx}$ będzie miało znak dodatni \n",
    "* dla funkcji malejącej ($f(x+\\epsilon) < f(x)$) wyrażenie $\\frac{f(x)}{dx}$ będzie miało znak ujemny \n",
    "\n",
    "Widzimy więc, że potrafimy wskazać kierunek zmniejszenia wartości funkcji, patrząc na znak pochodnej. Zaobserwowano także, że amplituda wartości w $\\frac{f(x)}{dx}$ jest tym większa, im dalej jesteśmy od minimum (maximum). Pochodna wyznacza więc, w jakim kierunku funkcja najszybciej rośnie, zaś przeciwny zwrot to ten, w którym funkcja najszybciej spada.\n",
    "\n",
    "Stosując powyższe do optymalizacji, mamy:\n",
    "$$\\large\n",
    "x_{t+1} = x_{t} -  \\alpha * \\frac{f(x)}{dx}\n",
    "$$\n",
    "\n",
    "$\\alpha$ to niewielka wartość (rzędu zwykle $10^{-5}$ - $10^{-2}$), wprowadzona, aby trzymać się założenia o małej zmianie parametrów ($\\epsilon$). Nazywa się ją **stałą uczącą (learning rate)** i jest zwykle najważniejszym hiperparametrem podczas nauki sieci.\n",
    "\n",
    "Metoda ta zakłada, że używamy całego zbioru danych do aktualizacji parametrów w każdym kroku, co nazywa się po prostu GD (od *gradient descent*) albo *full batch GD*. Wtedy każdy krok optymalizacji nazywa się **epoką (epoch)**.\n",
    "\n",
    "Im większa stała ucząca, tym większe nasze kroki podczas minimalizacji. Możemy więc uczyć szybciej, ale istnieje ryzyko, że będziemy \"przeskakiwać\" minima. Mniejsza stała ucząca to wolniejszy, ale dokładniejszy trening. Jednak nie zawsze ona pozwala osiągnąć lepsze wyniki, bo może okazać się, że utkniemy w minimum lokalnym. Można także zmieniać stałą uczącą podczas treningu, co nazywa się **learning rate scheduling (LR scheduling)**. Obrazowo:\n",
    "\n",
    "![learning_rate](http://www.bdhammel.com/assets/learning-rate/lr-types.png)"
   ]
  },
  {
   "cell_type": "markdown",
   "metadata": {
    "id": "496qEjkVLAso"
   },
   "source": [
    "![interactive LR](http://cdn-images-1.medium.com/max/640/1*eeIvlwkMNG1wSmj3FR6M2g.gif)"
   ]
  },
  {
   "cell_type": "markdown",
   "metadata": {
    "id": "RYkyAHKzLAsp"
   },
   "source": [
    "Policzmy więc pochodną dla naszej funkcji kosztu MSE. Pochodną liczymy po parametrach naszego modelu, bo to właśnie ich chcemy dopasować tak, żeby koszt był jak najmniejszy:\n",
    "\n",
    "$$\\large\n",
    "MSE = \\frac{1}{N} \\sum_{i}^{N} (y_i - \\hat{y_i})^2\n",
    "$$\n",
    "\n",
    "W powyższym wzorze tylko $y_i$ jest zależny od $a$ oraz $b$. Możemy wykorzystać tu regułę łańcuchową (*chain rule*) i policzyć pochodne po naszych parametrach w sposób następujący:\n",
    "\n",
    "$$\\large\n",
    "\\frac{\\text{d} MSE}{\\text{d} a} = \\frac{1}{N} \\sum_{i}^{N} \\frac{\\text{d} (y_i - \\hat{y_i})^2}{\\text{d} \\hat{y_i}} \\frac{\\text{d} \\hat{y_i}}{\\text{d} a}\n",
    "$$\n",
    "\n",
    "$$\\large\n",
    "\\frac{\\text{d} MSE}{\\text{d} b} = \\frac{1}{N} \\sum_{i}^{N} \\frac{\\text{d} (y_i - \\hat{y_i})^2}{\\text{d} \\hat{y_i}} \\frac{\\text{d} \\hat{y_i}}{\\text{d} b}\n",
    "$$\n",
    "\n",
    "Policzmy te pochodne po kolei:\n",
    "\n",
    "$$\\large\n",
    "\\frac{\\text{d} (y_i - \\hat{y_i})^2}{\\text{d} \\hat{y_i}} = -2 \\cdot (y_i - \\hat{y_i})\n",
    "$$\n",
    "\n",
    "$$\\large\n",
    "\\frac{\\text{d} \\hat{y_i}}{\\text{d} a} = x_i\n",
    "$$\n",
    "\n",
    "$$\\large\n",
    "\\frac{\\text{d} \\hat{y_i}}{\\text{d} b} = 1\n",
    "$$\n",
    "\n",
    "Łącząc powyższe wyniki dostaniemy:\n",
    "\n",
    "$$\\large\n",
    "\\frac{\\text{d} MSE}{\\text{d} a} = \\frac{-2}{N} \\sum_{i}^{N} (y_i - \\hat{y_i}) \\cdot {x_i}\n",
    "$$\n",
    "\n",
    "$$\\large\n",
    "\\frac{\\text{d} MSE}{\\text{d} b} = \\frac{-2}{N} \\sum_{i}^{N} (y_i - \\hat{y_i})\n",
    "$$\n",
    "\n",
    "Aktualizacja parametrów wygląda tak:\n",
    "\n",
    "$$\\large\n",
    "a' = a - \\alpha * \\left( \\frac{-2}{N} \\sum_{i=1}^N (y_i - \\hat{y}_i) \\cdot x_i \\right)\n",
    "$$\n",
    "$$\\large\n",
    "b' = b - \\alpha * \\left( \\frac{-2}{N} \\sum_{i=1}^N (y_i - \\hat{y}_i) \\right)\n",
    "$$\n",
    "\n",
    "Liczymy więc pochodną funkcji kosztu, a potem za pomocą reguły łańcuchowej \"cofamy się\", dochodząc do tego, jak każdy z parametrów wpływa na błąd i w jaki sposób powinniśmy go zmienić. Nazywa się to **propagacją wsteczną (backpropagation)** i jest podstawowym mechanizmem umożliwiającym naukę sieci neuronowych za pomocą spadku wzdłuż gradientu. Więcej możesz o tym przeczytać [tutaj](https://cs231n.github.io/optimization-2/)."
   ]
  },
  {
   "cell_type": "markdown",
   "metadata": {},
   "source": [
    "\n",
    "#### Zadanie 2 (1.0 punkt)\n",
    "\n",
    "Zaimplementuj funkcję realizującą jedną epokę treningową. Zauważ, że `x` oraz `y` są wektorami. Oblicz predykcję przy aktualnych parametrach oraz zaktualizuj je zgodnie z powyższymi wzorami."
   ]
  },
  {
   "cell_type": "code",
   "execution_count": 53,
   "metadata": {
    "colab": {
     "base_uri": "https://localhost:8080/"
    },
    "id": "4qbdWOSULAsp",
    "outputId": "055607ae-87aa-470a-e6da-25682c82d470",
    "ExecuteTime": {
     "end_time": "2023-11-29T21:49:11.616473Z",
     "start_time": "2023-11-29T21:49:11.588899Z"
    }
   },
   "outputs": [],
   "source": [
    "import numpy as np\n",
    "\n",
    "\n",
    "def optimize(\n",
    "    x: np.ndarray, y: np.ndarray, a: float, b: float, learning_rate: float = 0.1\n",
    "):\n",
    "    y_hat = a * x + b\n",
    "    errors = y - y_hat\n",
    "\n",
    "    grad_a = -2 * np.mean(errors * x)\n",
    "    grad_b = -2 * np.mean(errors)\n",
    "\n",
    "    return a - learning_rate * grad_a, b - learning_rate * grad_b"
   ]
  },
  {
   "cell_type": "code",
   "execution_count": 54,
   "metadata": {
    "ExecuteTime": {
     "end_time": "2023-11-29T21:49:12.735156Z",
     "start_time": "2023-11-29T21:49:12.704628Z"
    }
   },
   "outputs": [
    {
     "name": "stdout",
     "output_type": "stream",
     "text": [
      "step 0 loss:  0.1330225119404028\n",
      "step 100 loss:  0.012673197778527677\n",
      "step 200 loss:  0.010257153540857817\n",
      "step 300 loss:  0.010094803754935901\n",
      "step 400 loss:  0.010083894412889118\n",
      "step 500 loss:  0.010083161342973334\n",
      "step 600 loss:  0.010083112083219712\n",
      "step 700 loss:  0.010083108773135263\n",
      "step 800 loss:  0.01008310855070908\n",
      "step 900 loss:  0.01008310853576281\n",
      "final loss: 0.010083108534760455\n"
     ]
    }
   ],
   "source": [
    "for i in range(1000):\n",
    "    loss = mse(y, a * x + b)\n",
    "    a, b = optimize(x, y, a, b)\n",
    "    if i % 100 == 0:\n",
    "        print(f\"step {i} loss: \", loss)\n",
    "\n",
    "print(\"final loss:\", loss)"
   ]
  },
  {
   "cell_type": "code",
   "execution_count": 55,
   "metadata": {
    "colab": {
     "base_uri": "https://localhost:8080/",
     "height": 282
    },
    "id": "xOgRcPC1LAsq",
    "outputId": "85b0b3e4-aa0d-467a-d8ff-5f01be17b243",
    "scrolled": false,
    "ExecuteTime": {
     "end_time": "2023-11-29T21:49:14.039208Z",
     "start_time": "2023-11-29T21:49:13.828093Z"
    }
   },
   "outputs": [
    {
     "data": {
      "text/plain": "[<matplotlib.lines.Line2D at 0x177cd6490>]"
     },
     "execution_count": 55,
     "metadata": {},
     "output_type": "execute_result"
    },
    {
     "data": {
      "text/plain": "<Figure size 640x480 with 1 Axes>",
      "image/png": "[encoded data removed]"
     },
     "metadata": {},
     "output_type": "display_data"
    }
   ],
   "source": [
    "plt.scatter(x, y)\n",
    "plt.plot(x, a * x + b, color=\"g\", linewidth=4)"
   ]
  },
  {
   "cell_type": "markdown",
   "metadata": {
    "id": "vOr2fWYpLAsq"
   },
   "source": [
    "Udało ci się wytrenować swoją pierwszą sieć neuronową. Czemu? Otóż neuron to po prostu wektor parametrów, a zwykle robimy iloczyn skalarny tych parametrów z wejściem. Dodatkowo na wyjście nakłada się **funkcję aktywacji (activation function)**, która przekształca wyjście. Tutaj takiej nie było, a właściwie była to po prostu funkcja identyczności.\n",
    "\n",
    "Oczywiście w praktyce korzystamy z odpowiedniego frameworka, który w szczególności:\n",
    "- ułatwia budowanie sieci, np. ma gotowe klasy dla warstw neuronów\n",
    "- ma zaimplementowane funkcje kosztu oraz ich pochodne\n",
    "- sam różniczkuje ze względu na odpowiednie parametry i aktualizuje je odpowiednio podczas treningu\n"
   ]
  },
  {
   "cell_type": "markdown",
   "metadata": {
    "id": "NJBYJabuLAsr"
   },
   "source": [
    "## Wprowadzenie do PyTorcha"
   ]
  },
  {
   "cell_type": "markdown",
   "metadata": {
    "id": "EB-99XqhLAsr"
   },
   "source": [
    "PyTorch to w gruncie rzeczy narzędzie do algebry liniowej z [automatycznym rożniczkowaniem](https://pytorch.org/tutorials/beginner/blitz/autograd_tutorial.html), z możliwością przyspieszenia obliczeń z pomocą GPU. Na tych fundamentach zbudowany jest pełny framework do uczenia głębokiego. Można spotkać się ze stwierdzenie, że PyTorch to NumPy + GPU + opcjonalne różniczkowanie, co jest całkiem celne. Plus można łatwo debugować printem :)\n",
    "\n",
    "PyTorch używa dynamicznego grafu obliczeń, który sami definiujemy w kodzie. Takie podejście jest bardzo wygodne, elastyczne i pozwala na łatwe eksperymentowanie. Odbywa się to potencjalnie kosztem wydajności, ponieważ pozostawia kwestię optymalizacji programiście. Więcej na ten temat dla zainteresowanych na końcu laboratorium.\n",
    "\n",
    "Samo API PyTorcha bardzo przypomina Numpy'a, a podstawowym obiektem jest `Tensor`, klasa reprezentująca tensory dowolnego wymiaru. Dodatkowo niektóre tensory będą miały automatycznie obliczony gradient. Co ważne, tensor jest na pewnym urządzeniu, CPU lub GPU, a przenosić między nimi trzeba explicite.\n",
    "\n",
    "Najważniejsze moduły:\n",
    "- `torch` - podstawowe klasy oraz funkcje, np. `Tensor`, `from_numpy()`\n",
    "- `torch.nn` - klasy związane z sieciami neuronowymi, np. `Linear`, `Sigmoid`\n",
    "- `torch.optim` - wszystko związane z optymalizacją, głównie spadkiem wzdłuż gradientu"
   ]
  },
  {
   "cell_type": "code",
   "execution_count": 56,
   "metadata": {
    "id": "FwuIt8S-LAss",
    "ExecuteTime": {
     "end_time": "2023-11-29T21:49:17.239127Z",
     "start_time": "2023-11-29T21:49:17.207798Z"
    }
   },
   "outputs": [],
   "source": [
    "import torch\n",
    "import torch.nn as nn\n",
    "import torch.optim as optim"
   ]
  },
  {
   "cell_type": "code",
   "execution_count": 57,
   "metadata": {
    "colab": {
     "base_uri": "https://localhost:8080/"
    },
    "id": "bfCiUFXULAss",
    "outputId": "83f6231d-ecc4-461a-b758-fdc4bc2a88a4",
    "ExecuteTime": {
     "end_time": "2023-11-29T21:49:18.030351Z",
     "start_time": "2023-11-29T21:49:18.002909Z"
    }
   },
   "outputs": [
    {
     "name": "stdout",
     "output_type": "stream",
     "text": [
      "tensor([1.7262, 1.6083, 1.6194, 1.3136, 1.0983, 1.7755, 1.0135, 1.3118, 1.4511,\n",
      "        1.6857])\n",
      "tensor([0.7262, 0.6083, 0.6194, 0.3136, 0.0983, 0.7755, 0.0135, 0.3118, 0.4511,\n",
      "        0.6857])\n",
      "tensor(4.6034)\n"
     ]
    }
   ],
   "source": [
    "ones = torch.ones(10)\n",
    "noise = torch.ones(10) * torch.rand(10)\n",
    "\n",
    "# elementwise sum\n",
    "print(ones + noise)\n",
    "\n",
    "# elementwise multiplication\n",
    "print(ones * noise)\n",
    "\n",
    "# dot product\n",
    "print(ones @ noise)"
   ]
  },
  {
   "cell_type": "code",
   "execution_count": 58,
   "metadata": {
    "id": "ynNd_kD0LAst",
    "ExecuteTime": {
     "end_time": "2023-11-29T21:49:18.784906Z",
     "start_time": "2023-11-29T21:49:18.752575Z"
    }
   },
   "outputs": [],
   "source": [
    "# beware - shares memory with original Numpy array!\n",
    "# very fast, but modifications are visible to original variable\n",
    "x = torch.from_numpy(x)\n",
    "y = torch.from_numpy(y)"
   ]
  },
  {
   "cell_type": "markdown",
   "metadata": {
    "id": "W9kkxczELAsu"
   },
   "source": [
    "Jeżeli dla stworzonych przez nas tensorów chcemy śledzić operacje i obliczać gradient, to musimy oznaczyć `requires_grad=True`."
   ]
  },
  {
   "cell_type": "code",
   "execution_count": 59,
   "metadata": {
    "colab": {
     "base_uri": "https://localhost:8080/"
    },
    "id": "8HtZL-KfLAsu",
    "outputId": "47c6d930-5678-452a-95bc-227935138b40",
    "ExecuteTime": {
     "end_time": "2023-11-29T21:49:20.123841Z",
     "start_time": "2023-11-29T21:49:20.022849Z"
    }
   },
   "outputs": [
    {
     "data": {
      "text/plain": "(tensor([0.3291], requires_grad=True), tensor([0.8275], requires_grad=True))"
     },
     "execution_count": 59,
     "metadata": {},
     "output_type": "execute_result"
    }
   ],
   "source": [
    "a = torch.rand(1, requires_grad=True)\n",
    "b = torch.rand(1, requires_grad=True)\n",
    "a, b"
   ]
  },
  {
   "cell_type": "markdown",
   "metadata": {
    "id": "Nl1guWZ_LAsv"
   },
   "source": [
    "PyTorch zawiera większość powszechnie używanych funkcji kosztu, np. MSE. Mogą być one używane na 2 sposoby, z czego pierwszy jest popularniejszy:\n",
    "- jako klasy wywoływalne z modułu `torch.nn`\n",
    "- jako funkcje z modułu `torch.nn.functional`\n",
    "\n",
    "Po wykonaniu poniższego kodu widzimy, że zwraca on nam tensor z dodatkowymi atrybutami. Co ważne, jest to skalar (0-wymiarowy tensor), bo potrzebujemy zwyczajnej liczby do obliczania propagacji wstecznych (pochodnych czątkowych)."
   ]
  },
  {
   "cell_type": "code",
   "execution_count": 60,
   "metadata": {
    "ExecuteTime": {
     "end_time": "2023-11-29T21:49:21.526648Z",
     "start_time": "2023-11-29T21:49:21.377182Z"
    }
   },
   "outputs": [
    {
     "data": {
      "text/plain": "tensor(0.2813, dtype=torch.float64, grad_fn=<MseLossBackward0>)"
     },
     "execution_count": 60,
     "metadata": {},
     "output_type": "execute_result"
    }
   ],
   "source": [
    "mse = nn.MSELoss()\n",
    "mse(y, a * x + b)"
   ]
  },
  {
   "cell_type": "markdown",
   "metadata": {
    "id": "vS35r49nLAsw"
   },
   "source": [
    "Atrybutu `grad_fn` nie używamy wprost, bo korzysta z niego w środku PyTorch, ale widać, że tensor jest \"świadomy\", że liczy się na nim pochodną. Możemy natomiast skorzystać z atrybutu `grad`, który zawiera faktyczny gradient. Zanim go jednak dostaniemy, to trzeba powiedzieć PyTorchowi, żeby policzył gradient. Służy do tego metoda `.backward()`, wywoływana na obiekcie zwracanym przez funkcję kosztu."
   ]
  },
  {
   "cell_type": "code",
   "execution_count": 61,
   "metadata": {
    "id": "Qb7l6Xg1LAsx",
    "ExecuteTime": {
     "end_time": "2023-11-29T21:49:22.588582Z",
     "start_time": "2023-11-29T21:49:22.523325Z"
    }
   },
   "outputs": [],
   "source": [
    "loss = mse(y, a * x + b)\n",
    "loss.backward()"
   ]
  },
  {
   "cell_type": "code",
   "execution_count": 62,
   "metadata": {
    "colab": {
     "base_uri": "https://localhost:8080/"
    },
    "id": "6LfQbLVoLAsx",
    "outputId": "d5b87fb7-d284-423c-f467-b677384b2f67",
    "ExecuteTime": {
     "end_time": "2023-11-29T21:49:23.064816Z",
     "start_time": "2023-11-29T21:49:23.042595Z"
    }
   },
   "outputs": [
    {
     "name": "stdout",
     "output_type": "stream",
     "text": [
      "tensor([0.3770])\n"
     ]
    }
   ],
   "source": [
    "print(a.grad)"
   ]
  },
  {
   "cell_type": "markdown",
   "metadata": {
    "id": "Kdf1iweELAsy"
   },
   "source": [
    "Ważne jest, że PyTorch nie liczy za każdym razem nowego gradientu, tylko dodaje go do istniejącego, czyli go akumuluje. Jest to przydatne w niektórych sieciach neuronowych, ale zazwyczaj trzeba go zerować. Jeżeli tego nie zrobimy, to dostaniemy coraz większe gradienty.\n",
    "\n",
    "Do zerowania służy metoda `.zero_()`. W PyTorchu wszystkie metody modyfikujące tensor w miejscu mają `_` na końcu nazwy. Jest to dość niskopoziomowa operacja dla pojedynczych tensorów - zobaczymy za chwilę, jak to robić łatwiej dla całej sieci."
   ]
  },
  {
   "cell_type": "code",
   "execution_count": 63,
   "metadata": {
    "colab": {
     "base_uri": "https://localhost:8080/"
    },
    "id": "DiCQZKJsLAsy",
    "outputId": "2f779622-480d-43fc-b9d0-a0e36ff4b28b",
    "ExecuteTime": {
     "end_time": "2023-11-29T21:49:24.274463Z",
     "start_time": "2023-11-29T21:49:24.195318Z"
    }
   },
   "outputs": [
    {
     "data": {
      "text/plain": "tensor([0.7540])"
     },
     "execution_count": 63,
     "metadata": {},
     "output_type": "execute_result"
    }
   ],
   "source": [
    "loss = mse(y, a * x + b)\n",
    "loss.backward()\n",
    "a.grad"
   ]
  },
  {
   "cell_type": "markdown",
   "metadata": {
    "id": "xNC3Ag8uLAsz"
   },
   "source": [
    "Zobaczmy, jak wyglądałaby regresja liniowa, ale napisana w PyTorchu. Jest to oczywiście bardzo niskopoziomowa implementacja - za chwilę zobaczymy, jak to wygląda w praktyce."
   ]
  },
  {
   "cell_type": "code",
   "execution_count": 64,
   "metadata": {
    "colab": {
     "base_uri": "https://localhost:8080/"
    },
    "id": "AKnxyeboLAsz",
    "outputId": "2f939474-901a-4773-9704-686a40ae6e8e",
    "ExecuteTime": {
     "end_time": "2023-11-29T21:49:25.923745Z",
     "start_time": "2023-11-29T21:49:25.658452Z"
    }
   },
   "outputs": [
    {
     "name": "stdout",
     "output_type": "stream",
     "text": [
      "step 0 loss:  tensor(0.2813, dtype=torch.float64, grad_fn=<MseLossBackward0>)\n",
      "step 100 loss:  tensor(0.0139, dtype=torch.float64, grad_fn=<MseLossBackward0>)\n",
      "step 200 loss:  tensor(0.0103, dtype=torch.float64, grad_fn=<MseLossBackward0>)\n",
      "step 300 loss:  tensor(0.0101, dtype=torch.float64, grad_fn=<MseLossBackward0>)\n",
      "step 400 loss:  tensor(0.0101, dtype=torch.float64, grad_fn=<MseLossBackward0>)\n",
      "step 500 loss:  tensor(0.0101, dtype=torch.float64, grad_fn=<MseLossBackward0>)\n",
      "step 600 loss:  tensor(0.0101, dtype=torch.float64, grad_fn=<MseLossBackward0>)\n",
      "step 700 loss:  tensor(0.0101, dtype=torch.float64, grad_fn=<MseLossBackward0>)\n",
      "step 800 loss:  tensor(0.0101, dtype=torch.float64, grad_fn=<MseLossBackward0>)\n",
      "step 900 loss:  tensor(0.0101, dtype=torch.float64, grad_fn=<MseLossBackward0>)\n",
      "final loss: tensor(0.0101, dtype=torch.float64, grad_fn=<MseLossBackward0>)\n"
     ]
    }
   ],
   "source": [
    "learning_rate = 0.1\n",
    "for i in range(1000):\n",
    "    loss = mse(y, a * x + b)\n",
    "\n",
    "    # compute gradients\n",
    "    loss.backward()\n",
    "\n",
    "    # update parameters\n",
    "    a.data -= learning_rate * a.grad\n",
    "    b.data -= learning_rate * b.grad\n",
    "\n",
    "    # zero gradients\n",
    "    a.grad.data.zero_()\n",
    "    b.grad.data.zero_()\n",
    "\n",
    "    if i % 100 == 0:\n",
    "        print(f\"step {i} loss: \", loss)\n",
    "\n",
    "print(\"final loss:\", loss)"
   ]
  },
  {
   "cell_type": "markdown",
   "metadata": {
    "id": "2DXNVhshmmI-"
   },
   "source": [
    "Trening modeli w PyTorchu jest dosyć schematyczny i najczęściej rozdziela się go na kilka bloków, dających razem **pętlę uczącą (training loop)**, powtarzaną w każdej epoce:\n",
    "1. Forward pass - obliczenie predykcji sieci\n",
    "2. Loss calculation\n",
    "3. Backpropagation - obliczenie pochodnych oraz zerowanie gradientów\n",
    "4. Optimalization - aktualizacja wag\n",
    "5. Other - ewaluacja na zbiorze walidacyjnym, logging etc."
   ]
  },
  {
   "cell_type": "code",
   "execution_count": 65,
   "metadata": {
    "colab": {
     "base_uri": "https://localhost:8080/"
    },
    "id": "2etpw7TNLAs0",
    "outputId": "8ac35c12-6c70-41ec-bf57-414456fc3c96",
    "scrolled": true,
    "ExecuteTime": {
     "end_time": "2023-11-29T21:49:28.264119Z",
     "start_time": "2023-11-29T21:49:27.992022Z"
    }
   },
   "outputs": [
    {
     "name": "stdout",
     "output_type": "stream",
     "text": [
      "step 0 loss: 0.1952\n",
      "step 100 loss: 0.0160\n",
      "step 200 loss: 0.0105\n",
      "step 300 loss: 0.0101\n",
      "step 400 loss: 0.0101\n",
      "step 500 loss: 0.0101\n",
      "step 600 loss: 0.0101\n",
      "step 700 loss: 0.0101\n",
      "step 800 loss: 0.0101\n",
      "step 900 loss: 0.0101\n",
      "final loss: tensor(0.0101, dtype=torch.float64, grad_fn=<MseLossBackward0>)\n"
     ]
    }
   ],
   "source": [
    "# initialization\n",
    "learning_rate = 0.1\n",
    "a = torch.rand(1, requires_grad=True)\n",
    "b = torch.rand(1, requires_grad=True)\n",
    "optimizer = torch.optim.SGD([a, b], lr=learning_rate)\n",
    "best_loss = float(\"inf\")\n",
    "\n",
    "# training loop in each epoch\n",
    "for i in range(1000):\n",
    "    # forward pass\n",
    "    y_hat = a * x + b\n",
    "\n",
    "    # loss calculation\n",
    "    loss = mse(y, y_hat)\n",
    "\n",
    "    # backpropagation\n",
    "    loss.backward()\n",
    "\n",
    "    # optimization\n",
    "    optimizer.step()\n",
    "    optimizer.zero_grad()  # zeroes all gradients - very convenient!\n",
    "\n",
    "    if i % 100 == 0:\n",
    "        if loss < best_loss:\n",
    "            best_model = (a.clone(), b.clone())\n",
    "            best_loss = loss\n",
    "        print(f\"step {i} loss: {loss.item():.4f}\")\n",
    "\n",
    "print(\"final loss:\", loss)"
   ]
  },
  {
   "cell_type": "markdown",
   "metadata": {},
   "source": [
    "Przejdziemy teraz do budowy sieci neuronowej do klasyfikacji. Typowo implementuje się ją po prostu jako sieć dla regresji, ale zwracającą tyle wyników, ile mamy klas, a potem aplikuje się na tym funkcję sigmoidalną (2 klasy) lub softmax (>2 klasy). W przypadku klasyfikacji binarnej zwraca się czasem tylko 1 wartość, przepuszczaną przez sigmoidę - wtedy wyjście z sieci to prawdopodobieństwo klasy pozytywnej.\n",
    "\n",
    "Funkcją kosztu zwykle jest **entropia krzyżowa (cross-entropy)**, stosowana też w klasycznej regresji logistycznej. Co ważne, sieci neuronowe, nawet tak proste, uczą się szybciej i stabilniej, gdy dane na wejściu (a przynajmniej zmienne numeryczne) są **ustandaryzowane (standardized)**. Operacja ta polega na odjęciu średniej i podzieleniu przez odchylenie standardowe (tzw. *Z-score transformation*).\n",
    "\n",
    "**Uwaga - PyTorch wymaga tensora klas będącego liczbami zmiennoprzecinkowymi!**"
   ]
  },
  {
   "cell_type": "markdown",
   "metadata": {},
   "source": [
    "## Zbiór danych"
   ]
  },
  {
   "cell_type": "markdown",
   "metadata": {},
   "source": [
    "Na tym laboratorium wykorzystamy zbiór [Adult Census](https://archive.ics.uci.edu/ml/datasets/adult). Dotyczy on przewidywania na podstawie danych demograficznych, czy dany człowiek zarabia powyżej 50 tysięcy dolarów rocznie, czy też mniej. Jest to cenna informacja np. przy planowaniu kampanii marketingowych. Jak możesz się domyślić, zbiór pochodzi z czasów, kiedy inflacja była dużo niższa :)\n",
    "\n",
    "Poniżej znajduje się kod do ściągnięcia i preprocessingu zbioru. Nie musisz go dokładnie analizować."
   ]
  },
  {
   "cell_type": "code",
   "execution_count": 66,
   "metadata": {
    "colab": {
     "base_uri": "https://localhost:8080/"
    },
    "id": "4DNsaZAnLAs0",
    "outputId": "70822008-530d-4173-deb9-8149a9fe5b41",
    "scrolled": true,
    "ExecuteTime": {
     "end_time": "2023-11-29T21:49:31.311048Z",
     "start_time": "2023-11-29T21:49:31.258321Z"
    }
   },
   "outputs": [],
   "source": [
    "# !wget https://archive.ics.uci.edu/ml/machine-learning-databases/adult/adult.data"
   ]
  },
  {
   "cell_type": "code",
   "execution_count": 67,
   "metadata": {
    "ExecuteTime": {
     "end_time": "2023-11-29T21:49:32.165622Z",
     "start_time": "2023-11-29T21:49:32.096457Z"
    }
   },
   "outputs": [
    {
     "data": {
      "text/plain": "array([' <=50K', ' >50K'], dtype=object)"
     },
     "execution_count": 67,
     "metadata": {},
     "output_type": "execute_result"
    }
   ],
   "source": [
    "import pandas as pd\n",
    "\n",
    "\n",
    "columns = [\n",
    "    \"age\",\n",
    "    \"workclass\",\n",
    "    \"fnlwgt\",\n",
    "    \"education\",\n",
    "    \"education-num\",\n",
    "    \"marital-status\",\n",
    "    \"occupation\",\n",
    "    \"relationship\",\n",
    "    \"race\",\n",
    "    \"sex\",\n",
    "    \"capital-gain\",\n",
    "    \"capital-loss\",\n",
    "    \"hours-per-week\",\n",
    "    \"native-country\",\n",
    "    \"wage\",\n",
    "]\n",
    "\n",
    "\"\"\"\n",
    "age: continuous.\n",
    "workclass: Private, Self-emp-not-inc, Self-emp-inc, Federal-gov, Local-gov, State-gov, Without-pay, Never-worked.\n",
    "fnlwgt: continuous.\n",
    "education: Bachelors, Some-college, 11th, HS-grad, Prof-school, Assoc-acdm, Assoc-voc, 9th, 7th-8th, 12th, Masters, 1st-4th, 10th, Doctorate, 5th-6th, Preschool.\n",
    "education-num: continuous.\n",
    "marital-status: Married-civ-spouse, Divorced, Never-married, Separated, Widowed, Married-spouse-absent, Married-AF-spouse.\n",
    "occupation: Tech-support, Craft-repair, Other-service, Sales, Exec-managerial, Prof-specialty, Handlers-cleaners, Machine-op-inspct, Adm-clerical, Farming-fishing, Transport-moving, Priv-house-serv, Protective-serv, Armed-Forces.\n",
    "relationship: Wife, Own-child, Husband, Not-in-family, Other-relative, Unmarried.\n",
    "race: White, Asian-Pac-Islander, Amer-Indian-Eskimo, Other, Black.\n",
    "sex: Female, Male.\n",
    "capital-gain: continuous.\n",
    "capital-loss: continuous.\n",
    "hours-per-week: continuous.\n",
    "native-country: United-States, Cambodia, England, Puerto-Rico, Canada, Germany, Outlying-US(Guam-USVI-etc), India, Japan, Greece, South, China, Cuba, Iran, Honduras, Philippines, Italy, Poland, Jamaica, Vietnam, Mexico, Portugal, Ireland, France, Dominican-Republic, Laos, Ecuador, Taiwan, Haiti, Columbia, Hungary, Guatemala, Nicaragua, Scotland, Thailand, Yugoslavia, El-Salvador, Trinadad&Tobago, Peru, Hong, Holand-Netherlands.\n",
    "\"\"\"\n",
    "\n",
    "df = pd.read_csv(\"adult.data\", header=None, names=columns)\n",
    "df.wage.unique()"
   ]
  },
  {
   "cell_type": "code",
   "execution_count": 68,
   "metadata": {
    "ExecuteTime": {
     "end_time": "2023-11-29T21:49:35.924772Z",
     "start_time": "2023-11-29T21:49:35.862035Z"
    }
   },
   "outputs": [],
   "source": [
    "# attribution: https://www.kaggle.com/code/royshih23/topic7-classification-in-python\n",
    "df[\"education\"].replace(\"Preschool\", \"dropout\", inplace=True)\n",
    "df[\"education\"].replace(\"10th\", \"dropout\", inplace=True)\n",
    "df[\"education\"].replace(\"11th\", \"dropout\", inplace=True)\n",
    "df[\"education\"].replace(\"12th\", \"dropout\", inplace=True)\n",
    "df[\"education\"].replace(\"1st-4th\", \"dropout\", inplace=True)\n",
    "df[\"education\"].replace(\"5th-6th\", \"dropout\", inplace=True)\n",
    "df[\"education\"].replace(\"7th-8th\", \"dropout\", inplace=True)\n",
    "df[\"education\"].replace(\"9th\", \"dropout\", inplace=True)\n",
    "df[\"education\"].replace(\"HS-Grad\", \"HighGrad\", inplace=True)\n",
    "df[\"education\"].replace(\"HS-grad\", \"HighGrad\", inplace=True)\n",
    "df[\"education\"].replace(\"Some-college\", \"CommunityCollege\", inplace=True)\n",
    "df[\"education\"].replace(\"Assoc-acdm\", \"CommunityCollege\", inplace=True)\n",
    "df[\"education\"].replace(\"Assoc-voc\", \"CommunityCollege\", inplace=True)\n",
    "df[\"education\"].replace(\"Bachelors\", \"Bachelors\", inplace=True)\n",
    "df[\"education\"].replace(\"Masters\", \"Masters\", inplace=True)\n",
    "df[\"education\"].replace(\"Prof-school\", \"Masters\", inplace=True)\n",
    "df[\"education\"].replace(\"Doctorate\", \"Doctorate\", inplace=True)\n",
    "\n",
    "df[\"marital-status\"].replace(\"Never-married\", \"NotMarried\", inplace=True)\n",
    "df[\"marital-status\"].replace([\"Married-AF-spouse\"], \"Married\", inplace=True)\n",
    "df[\"marital-status\"].replace([\"Married-civ-spouse\"], \"Married\", inplace=True)\n",
    "df[\"marital-status\"].replace([\"Married-spouse-absent\"], \"NotMarried\", inplace=True)\n",
    "df[\"marital-status\"].replace([\"Separated\"], \"Separated\", inplace=True)\n",
    "df[\"marital-status\"].replace([\"Divorced\"], \"Separated\", inplace=True)\n",
    "df[\"marital-status\"].replace([\"Widowed\"], \"Widowed\", inplace=True)"
   ]
  },
  {
   "cell_type": "code",
   "execution_count": 69,
   "metadata": {
    "colab": {
     "base_uri": "https://localhost:8080/"
    },
    "id": "LiOxs_6mLAs1",
    "outputId": "c95418cf-2632-41d0-de0a-9caf109de113",
    "scrolled": true,
    "ExecuteTime": {
     "end_time": "2023-11-29T21:49:42.751873Z",
     "start_time": "2023-11-29T21:49:42.586744Z"
    }
   },
   "outputs": [
    {
     "name": "stderr",
     "output_type": "stream",
     "text": [
      "/opt/homebrew/anaconda3/lib/python3.11/site-packages/sklearn/preprocessing/_encoders.py:975: FutureWarning: `sparse` was renamed to `sparse_output` in version 1.2 and will be removed in 1.4. `sparse_output` is ignored unless you leave `sparse` to its default value.\n",
      "  warnings.warn(\n"
     ]
    },
    {
     "data": {
      "text/plain": "((20838, 108), (20838,))"
     },
     "execution_count": 69,
     "metadata": {},
     "output_type": "execute_result"
    }
   ],
   "source": [
    "from sklearn.model_selection import train_test_split\n",
    "from sklearn.preprocessing import MinMaxScaler, OneHotEncoder, StandardScaler\n",
    "\n",
    "\n",
    "X = df.copy()\n",
    "y = (X.pop(\"wage\") == \" >50K\").astype(int).values\n",
    "\n",
    "train_valid_size = 0.2\n",
    "\n",
    "X_train, X_test, y_train, y_test = train_test_split(\n",
    "    X, y, test_size=train_valid_size, random_state=0, shuffle=True, stratify=y\n",
    ")\n",
    "X_train, X_valid, y_train, y_valid = train_test_split(\n",
    "    X_train,\n",
    "    y_train,\n",
    "    test_size=train_valid_size,\n",
    "    random_state=0,\n",
    "    shuffle=True,\n",
    "    stratify=y_train,\n",
    ")\n",
    "\n",
    "continuous_cols = [\n",
    "    \"age\",\n",
    "    \"fnlwgt\",\n",
    "    \"education-num\",\n",
    "    \"capital-gain\",\n",
    "    \"capital-loss\",\n",
    "    \"hours-per-week\",\n",
    "]\n",
    "continuous_X_train = X_train[continuous_cols]\n",
    "categorical_X_train = X_train.loc[:, ~X_train.columns.isin(continuous_cols)]\n",
    "\n",
    "continuous_X_valid = X_valid[continuous_cols]\n",
    "categorical_X_valid = X_valid.loc[:, ~X_valid.columns.isin(continuous_cols)]\n",
    "\n",
    "continuous_X_test = X_test[continuous_cols]\n",
    "categorical_X_test = X_test.loc[:, ~X_test.columns.isin(continuous_cols)]\n",
    "\n",
    "categorical_encoder = OneHotEncoder(sparse=False, handle_unknown=\"ignore\")\n",
    "continuous_scaler = StandardScaler()  # MinMaxScaler(feature_range=(-1, 1))\n",
    "\n",
    "categorical_encoder.fit(categorical_X_train)\n",
    "continuous_scaler.fit(continuous_X_train)\n",
    "\n",
    "continuous_X_train = continuous_scaler.transform(continuous_X_train)\n",
    "continuous_X_valid = continuous_scaler.transform(continuous_X_valid)\n",
    "continuous_X_test = continuous_scaler.transform(continuous_X_test)\n",
    "\n",
    "categorical_X_train = categorical_encoder.transform(categorical_X_train)\n",
    "categorical_X_valid = categorical_encoder.transform(categorical_X_valid)\n",
    "categorical_X_test = categorical_encoder.transform(categorical_X_test)\n",
    "\n",
    "X_train = np.concatenate([continuous_X_train, categorical_X_train], axis=1)\n",
    "X_valid = np.concatenate([continuous_X_valid, categorical_X_valid], axis=1)\n",
    "X_test = np.concatenate([continuous_X_test, categorical_X_test], axis=1)\n",
    "\n",
    "X_train.shape, y_train.shape"
   ]
  },
  {
   "cell_type": "markdown",
   "metadata": {},
   "source": [
    "Uwaga co do typów - PyTorchu wszystko w sieci neuronowej musi być typu `float32`. W szczególności trzeba uważać na konwersje z Numpy'a, który używa domyślnie typu `float64`. Może ci się przydać metoda `.float()`.\n",
    "\n",
    "Uwaga co do kształtów wyjścia - wejścia do `nn.BCELoss` muszą być tego samego kształtu. Może ci się przydać metoda `.squeeze()` lub `.unsqueeze()`."
   ]
  },
  {
   "cell_type": "code",
   "execution_count": 70,
   "metadata": {
    "id": "qfRA3xEoLAs1",
    "ExecuteTime": {
     "end_time": "2023-11-29T21:49:45.683389Z",
     "start_time": "2023-11-29T21:49:45.494728Z"
    }
   },
   "outputs": [],
   "source": [
    "X_train = torch.from_numpy(X_train).float()\n",
    "y_train = torch.from_numpy(y_train).float().unsqueeze(-1)\n",
    "\n",
    "X_valid = torch.from_numpy(X_valid).float()\n",
    "y_valid = torch.from_numpy(y_valid).float().unsqueeze(-1)\n",
    "\n",
    "X_test = torch.from_numpy(X_test).float()\n",
    "y_test = torch.from_numpy(y_test).float().unsqueeze(-1)"
   ]
  },
  {
   "cell_type": "markdown",
   "metadata": {},
   "source": [
    "Podobnie jak w laboratorium 2, mamy tu do czynienia z klasyfikacją niezbalansowaną:"
   ]
  },
  {
   "cell_type": "code",
   "execution_count": 71,
   "metadata": {
    "ExecuteTime": {
     "end_time": "2023-11-29T21:49:47.220731Z",
     "start_time": "2023-11-29T21:49:46.774233Z"
    }
   },
   "outputs": [
    {
     "data": {
      "text/plain": "<Figure size 640x480 with 1 Axes>",
      "image/png": "[encoded data removed]"
     },
     "metadata": {},
     "output_type": "display_data"
    }
   ],
   "source": [
    "import matplotlib.pyplot as plt\n",
    "\n",
    "y_pos_perc = 100 * y_train.sum().item() / len(y_train)\n",
    "y_neg_perc = 100 - y_pos_perc\n",
    "\n",
    "plt.title(\"Class percentages\")\n",
    "plt.bar([\"<50k\", \">=50k\"], [y_neg_perc, y_pos_perc])\n",
    "plt.show()"
   ]
  },
  {
   "cell_type": "markdown",
   "metadata": {},
   "source": [
    "W związku z powyższym będziemy używać odpowiednich metryk, czyli AUROC, precyzji i czułości."
   ]
  },
  {
   "cell_type": "markdown",
   "metadata": {
    "id": "XLexWff-LAs0"
   },
   "source": [
    "#### Zadanie 3 (1.0 punkt)\n",
    "\n",
    "Zaimplementuj regresję logistyczną dla tego zbioru danych, używając PyTorcha. Dane wejściowe zostały dla ciebie przygotowane w komórkach poniżej.\n",
    "\n",
    "Sama sieć składa się z 2 elementów:\n",
    "- warstwa liniowa `nn.Linear`, przekształcająca wektor wejściowy na 1 wyjście - logit\n",
    "- aktywacja sigmoidalna `nn.Sigmoid`, przekształcająca logit na prawdopodobieństwo klasy pozytywnej\n",
    "\n",
    "Użyj binarnej entropii krzyżowej `nn.BCELoss` jako funkcji kosztu. Użyj optymalizatora SGD ze stałą uczącą `1e-3`. Trenuj przez 3000 epok. Pamiętaj, aby przekazać do optymalizatora `torch.optim.SGD` parametry sieci (metoda `.parameters()`). Dopisz logowanie kosztu raz na 100 epok."
   ]
  },
  {
   "cell_type": "code",
   "execution_count": 72,
   "metadata": {
    "colab": {
     "base_uri": "https://localhost:8080/"
    },
    "id": "NbABKz5-LAs2",
    "outputId": "086dc0f3-0184-4072-9fd3-275b60dee2e4",
    "scrolled": true,
    "ExecuteTime": {
     "end_time": "2023-11-29T21:49:53.174852Z",
     "start_time": "2023-11-29T21:49:49.626734Z"
    }
   },
   "outputs": [
    {
     "name": "stdout",
     "output_type": "stream",
     "text": [
      "Epoch 0: loss 0.7316927313804626\n",
      "Epoch 100: loss 0.6943420171737671\n",
      "Epoch 200: loss 0.6632471084594727\n",
      "Epoch 300: loss 0.637197732925415\n",
      "Epoch 400: loss 0.6152108907699585\n",
      "Epoch 500: loss 0.5964986085891724\n",
      "Epoch 600: loss 0.5804334282875061\n",
      "Epoch 700: loss 0.5665180683135986\n",
      "Epoch 800: loss 0.5543581247329712\n",
      "Epoch 900: loss 0.5436410307884216\n",
      "Epoch 1000: loss 0.5341178178787231\n",
      "Epoch 1100: loss 0.5255900621414185\n",
      "Epoch 1200: loss 0.5178980827331543\n",
      "Epoch 1300: loss 0.510913610458374\n",
      "Epoch 1400: loss 0.5045323371887207\n",
      "Epoch 1500: loss 0.4986696243286133\n",
      "Epoch 1600: loss 0.4932555556297302\n",
      "Epoch 1700: loss 0.48823264241218567\n",
      "Epoch 1800: loss 0.48355332016944885\n",
      "Epoch 1900: loss 0.4791776239871979\n",
      "Epoch 2000: loss 0.4750722050666809\n",
      "Epoch 2100: loss 0.47120845317840576\n",
      "Epoch 2200: loss 0.4675622582435608\n",
      "Epoch 2300: loss 0.4641130864620209\n",
      "Epoch 2400: loss 0.46084296703338623\n",
      "Epoch 2500: loss 0.45773637294769287\n",
      "Epoch 2600: loss 0.4547800123691559\n",
      "Epoch 2700: loss 0.45196178555488586\n",
      "Epoch 2800: loss 0.44927138090133667\n",
      "Epoch 2900: loss 0.44669950008392334\n"
     ]
    }
   ],
   "source": [
    "learning_rate = 1e-3\n",
    "\n",
    "activation = nn.Sigmoid()\n",
    "model = nn.Linear(in_features=X_train.shape[1], out_features=1)\n",
    "\n",
    "optimizer = optim.SGD(model.parameters(), lr=learning_rate)\n",
    "\n",
    "loss_fn = nn.BCELoss()\n",
    "\n",
    "for epoch in range(3000):\n",
    "    y_pred = activation(model(X_train))\n",
    "\n",
    "    loss = loss_fn(y_pred, y_train)\n",
    "\n",
    "    optimizer.zero_grad()\n",
    "\n",
    "    loss.backward()\n",
    "\n",
    "    optimizer.step()\n",
    "\n",
    "    if epoch % 100 == 0:\n",
    "        print(f\"Epoch {epoch}: loss {loss.item()}\")"
   ]
  },
  {
   "cell_type": "markdown",
   "metadata": {},
   "source": [
    "Teraz trzeba sprawdzić, jak poszło naszej sieci. W PyTorchu sieć pracuje zawsze w jednym z dwóch trybów: treningowym lub ewaluacyjnym (predykcyjnym). Ten drugi wyłącza niektóre mechanizmy, które są używane tylko podczas treningu, w szczególności regularyzację dropout. Do przełączania służą metody modelu `.train()` i `.eval()`.\n",
    "\n",
    "Dodatkowo podczas liczenia predykcji dobrze jest wyłączyć liczenie gradientów, bo nie będą potrzebne, a oszczędza to czas i pamięć. Używa się do tego menadżera kontekstu `with torch.no_grad():`."
   ]
  },
  {
   "cell_type": "code",
   "execution_count": 73,
   "metadata": {
    "colab": {
     "base_uri": "https://localhost:8080/"
    },
    "id": "zH37zDX4LAs2",
    "outputId": "b1f93309-6f04-4ffc-b0ca-08d0a32120a0",
    "scrolled": true,
    "ExecuteTime": {
     "end_time": "2023-11-29T21:49:56.488874Z",
     "start_time": "2023-11-29T21:49:56.342870Z"
    }
   },
   "outputs": [
    {
     "name": "stdout",
     "output_type": "stream",
     "text": [
      "AUROC: 84.70%\n"
     ]
    }
   ],
   "source": [
    "from sklearn.metrics import (\n",
    "    precision_recall_curve,\n",
    "    precision_recall_fscore_support,\n",
    "    roc_auc_score,\n",
    ")\n",
    "\n",
    "\n",
    "model.eval()\n",
    "with torch.no_grad():\n",
    "    y_score = activation(model(X_test))\n",
    "\n",
    "auroc = roc_auc_score(y_test, y_score)\n",
    "print(f\"AUROC: {100 * auroc:.2f}%\")"
   ]
  },
  {
   "cell_type": "markdown",
   "metadata": {},
   "source": [
    "Jest to całkiem dobry wynik, a może być jeszcze lepszy. Sprawdźmy dla pewności jeszcze inne metryki: precyzję, recall oraz F1-score. Dodatkowo narysujemy krzywą precision-recall, czyli jak zmieniają się te metryki w zależności od przyjętego progu (threshold) prawdopodobieństwa, powyżej którego przyjmujemy klasę pozytywną. Taką krzywą należy rysować na zbiorze walidacyjnym, bo później chcemy wykorzystać tę informację do doboru progu, a nie chcemy mieć wycieku danych testowych (data leakage).\n",
    "\n",
    "Poniżej zaimplementowano także funkcję `get_optimal_threshold()`, która sprawdza, dla którego progu uzyskujemy maksymalny F1-score, i zwraca indeks oraz wartość optymalnego progu. Przyda ci się ona w dalszej części laboratorium."
   ]
  },
  {
   "cell_type": "code",
   "execution_count": 74,
   "metadata": {
    "ExecuteTime": {
     "end_time": "2023-11-29T21:49:59.525899Z",
     "start_time": "2023-11-29T21:49:59.262837Z"
    }
   },
   "outputs": [],
   "source": [
    "from sklearn.metrics import PrecisionRecallDisplay\n",
    "\n",
    "\n",
    "def get_optimal_threshold(\n",
    "    precisions: np.array, recalls: np.array, thresholds: np.array\n",
    ") -> Tuple[int, float]:\n",
    "    numerator = 2 * precisions * recalls\n",
    "    denominator = precisions + recalls\n",
    "    f1_scores = np.divide(\n",
    "        numerator, denominator, out=np.zeros_like(numerator), where=denominator != 0\n",
    "    )\n",
    "\n",
    "    optimal_idx = np.argmax(f1_scores)\n",
    "    optimal_threshold = thresholds[optimal_idx]\n",
    "\n",
    "    return optimal_idx, optimal_threshold\n",
    "\n",
    "\n",
    "def plot_precision_recall_curve(y_true, y_pred_score) -> None:\n",
    "    precisions, recalls, thresholds = precision_recall_curve(y_true, y_pred_score)\n",
    "    optimal_idx, optimal_threshold = get_optimal_threshold(\n",
    "        precisions, recalls, thresholds\n",
    "    )\n",
    "\n",
    "    disp = PrecisionRecallDisplay(precisions, recalls)\n",
    "    disp.plot()\n",
    "    plt.title(f\"Precision-recall curve (opt. thresh.: {optimal_threshold:.4f})\")\n",
    "    plt.axvline(recalls[optimal_idx], color=\"green\", linestyle=\"-.\")\n",
    "    plt.axhline(precisions[optimal_idx], color=\"green\", linestyle=\"-.\")\n",
    "    plt.show()"
   ]
  },
  {
   "cell_type": "code",
   "execution_count": 75,
   "metadata": {
    "ExecuteTime": {
     "end_time": "2023-11-29T21:50:00.963782Z",
     "start_time": "2023-11-29T21:50:00.801081Z"
    }
   },
   "outputs": [
    {
     "data": {
      "text/plain": "<Figure size 640x480 with 1 Axes>",
      "image/png": "[encoded data removed]"
     },
     "metadata": {},
     "output_type": "display_data"
    }
   ],
   "source": [
    "model.eval()\n",
    "with torch.no_grad():\n",
    "    y_pred_valid_score = activation(model(X_valid))\n",
    "\n",
    "plot_precision_recall_curve(y_valid, y_pred_valid_score)"
   ]
  },
  {
   "cell_type": "markdown",
   "metadata": {
    "id": "vfQPIUQ_LAs2"
   },
   "source": [
    "Jak widać, chociaż AUROC jest wysokie, to dla optymalnego F1-score recall nie jest zbyt wysoki, a precyzja jest już dość niska. Być może wynik uda się poprawić, używając modelu o większej pojemności - pełnej, głębokiej sieci neuronowej."
   ]
  },
  {
   "cell_type": "markdown",
   "metadata": {},
   "source": [
    "## Sieci neuronowe"
   ]
  },
  {
   "cell_type": "markdown",
   "metadata": {
    "id": "YP298w6Cq7T6"
   },
   "source": [
    "Wszystko zaczęło się od inspirowanych biologią [sztucznych neuronów](https://en.wikipedia.org/wiki/Artificial_neuron), których próbowano użyć do symulacji mózgu. Naukowcy szybko odeszli od tego podejścia (sam problem modelowania okazał się też znacznie trudniejszy, niż sądzono), zamiast tego używając neuronów jako jednostek reprezentującą dowolną funkcję parametryczną $f(x, \\Theta)$. Każdy neuron jest zatem bardzo elastyczny, bo jedyne wymagania to funkcja różniczkowalna, a mamy do tego wektor parametrów $\\Theta$.\n",
    "\n",
    "W praktyce najczęściej można spotkać się z kilkoma rodzinami sieci neuronowych:\n",
    "1. Perceptrony wielowarstwowe (*MultiLayer Perceptron*, MLP) - najbardziej podobne do powyższego opisu, niezbędne do klasyfikacji i regresji\n",
    "2. Konwolucyjne (*Convolutional Neural Networks*, CNNs) - do przetwarzania danych z zależnościami przestrzennymi, np. obrazów czy dźwięku\n",
    "3. Rekurencyjne (*Recurrent Neural Networks*, RNNs) - do przetwarzania danych z zależnościami sekwencyjnymi, np. szeregi czasowe, oraz kiedyś do języka naturalnego\n",
    "4. Transformacyjne (*Transformers*), oparte o mechanizm atencji (*attention*) - do przetwarzania języka naturalnego (NLP), z którego wyparły RNNs, a coraz częściej także do wszelkich innych danych, np. obrazów, dźwięku\n",
    "5. Grafowe (*Graph Neural Networks*, GNNS) - do przetwarzania grafów\n",
    "\n",
    "Na tym laboratorium skupimy się na najprostszej architekturze, czyli MLP. Jest ona powszechnie łączona z wszelkimi innymi architekturami, bo pozwala dokonywać klasyfikacji i regresji. Przykładowo, klasyfikacja obrazów to zwykle CNN + MLP, klasyfikacja tekstów to transformer + MLP, a regresja na grafach to GNN + MLP.\n",
    "\n",
    "Dodatkowo, pomimo prostoty MLP są bardzo potężne - udowodniono, że perceptrony (ich powszechna nazwa) są [uniwersalnym aproksymatorem](https://www.sciencedirect.com/science/article/abs/pii/0893608089900208), będącym w stanie przybliżyć dowolną funkcję z odpowiednio małym błędem, zakładając wystarczającą wielkość warstw sieci. Szczególne ich wersje potrafią nawet [reprezentować drzewa decyzyjne](https://www.youtube.com/watch?v=_okxGdHM5b8).\n",
    "\n",
    "Dla zainteresowanych polecamy [doskonałą książkę \"Dive into Deep Learning\", z implementacjami w PyTorchu](https://d2l.ai/chapter_multilayer-perceptrons/index.html), [klasyczną książkę \"Deep Learning Book\"](https://www.deeplearningbook.org/contents/mlp.html), oraz [ten filmik](https://www.youtube.com/watch?v=BFHrIxKcLjA), jeśli zastanawiałeś/-aś się, czemu używamy deep learning, a nie naprzykład (wide?) learning. (aka. czemu staramy się budować głębokie sieci, a nie płytkie za to szerokie)"
   ]
  },
  {
   "attachments": {
    "1_x-3NGQv0pRIab8xDT-f_Hg.png": {
     "image/png": "[encoded data removed]"
    }
   },
   "cell_type": "markdown",
   "metadata": {
    "id": "S_ZjoGBU5upj"
   },
   "source": [
    "### Sieci MLP\n",
    "\n",
    "Dla przypomnienia, na wejściu mamy punkty ze zbioru treningowego, czyli $d$-wymiarowe wektory. W klasyfikacji chcemy znaleźć granicę decyzyjną, czyli krzywą, która oddzieli od siebie klasy. W wejściowej przestrzeni może być to trudne, bo chmury punktów z poszczególnych klas mogą być ze sobą dość pomieszane. Pamiętajmy też, że regresja logistyczna jest klasyfikatorem liniowym, czyli w danej przestrzeni potrafi oddzielić punkty tylko linią prostą.\n",
    "\n",
    "Sieć MLP składa się z warstw. Każda z nich dokonuje nieliniowego przekształcenia przestrzeni (można o tym myśleć jak o składaniu przestrzeni jakąś prostą/łamaną), tak, aby w finalnej przestrzeni nasze punkty były możliwie liniowo separowalne. Wtedy ostatnia warstwa z sigmoidą będzie potrafiła je rozdzielić od siebie.\n",
    "\n",
    "![1_x-3NGQv0pRIab8xDT-f_Hg.png](attachment:1_x-3NGQv0pRIab8xDT-f_Hg.png)\n",
    "\n",
    "Poszczególne neurony składają się z iloczynu skalarnego wejść z wagami neuronu, oraz nieliniowej funkcji aktywacji. W PyTorchu są to osobne obiekty - `nn.Linear` oraz np. `nn.Sigmoid`. Funkcja aktywacji przyjmuje wynik iloczynu skalarnego i przekształca go, aby sprawdzić, jak mocno reaguje neuron na dane wejście. Musi być nieliniowa z dwóch powodów. Po pierwsze, tylko nieliniowe przekształcenia są na tyle potężne, żeby umożliwić liniową separację danych w ostatniej warstwie. Po drugie, liniowe przekształcenia zwyczajnie nie działają. Aby zrozumieć czemu, trzeba zobaczyć, co matematycznie oznacza sieć MLP.\n",
    "\n",
    "![perceptron](https://www.saedsayad.com/images/Perceptron_bkp_1.png)\n",
    "\n",
    "Zapisane matematycznie MLP to:\n",
    "\n",
    "$\\large\n",
    "h_1 = f_1(x) \\\\\n",
    "h_2 = f_2(h_1) \\\\\n",
    "h_3 = f_3(h_2) \\\\\n",
    "... \\\\\n",
    "h_n = f_n(h_{n-1})\n",
    "$\n",
    "\n",
    "gdzie $x$ to wejście $f_i$ to funkcja aktywacji $i$-tej warstwy, a $h_i$ to wyjście $i$-tej warstwy, nazywane **ukrytą reprezentacją (hidden representation)**, lub *latent representation*. Nazwa bierze się z tego, że w środku sieci wyciągamy cechy i wzorce w danych, które nie są widoczne na pierwszy rzut oka na wejściu.\n",
    "\n",
    "Załóżmy, że uczymy się na danych $x$ o jednym wymiarze (dla uproszczenia wzorów) oraz nie mamy funkcji aktywacji, czyli wykorzystujemy tak naprawdę aktywację liniową $f(x) = x$. Zobaczmy jak będą wyglądać dane przechodząc przez kolejne warstwy:\n",
    "\n",
    "$\\large\n",
    "h_1 = f_1(xw_1) = xw_1 \\\\\n",
    "h_2 = f_2(h_1w_2) = xw_1w_2 \\\\\n",
    "... \\\\\n",
    "h_n = f_n(h_{n-1}w_n) = xw_1w_2...w_n\n",
    "$\n",
    "\n",
    "gdzie $w_i$ to jest parametr $i$-tej warstwy sieci, $x$ to są dane (w naszym przypadku jedna liczba) wejściowa, a $h_i$ to wyjście $i$-tej warstwy.\n",
    "\n",
    "Jak widać, taka sieć o $n$ warstwach jest równoważna sieci o jednej warstwie z parametrem $w = w_1w_2...w_n$. Wynika to z tego, że złożenie funkcji liniowych jest także funkcją liniową - patrz notatki z algebry :)\n",
    "\n",
    "Jeżeli natomiast użyjemy nieliniowej funkcji aktywacji, często oznaczanej jako $\\sigma$, to wszystko będzie działać. Co ważne, ostatnia warstwa, dająca wyjście sieci, ma zwykle inną aktywację od warstw wewnątrz sieci, bo też ma inne zadanie - zwrócić wartość dla klasyfikacji lub regresji. Na wyjściu korzysta się z funkcji liniowej (regresja), sigmoidalnej (klasyfikacja binarna) lub softmax (klasyfikacja wieloklasowa).\n",
    "\n",
    "Wewnątrz sieci używano kiedyś sigmoidy oraz tangensa hiperbolicznego `tanh`, ale okazało się to nieefektywne przy uczeniu głębokich sieci o wielu warstwach. Nowoczesne sieci korzystają zwykle z funkcji ReLU (*rectified linear unit*), która jest zaskakująco prosta: $ReLU(x) = \\max(0, x)$. Okazało się, że bardzo dobrze nadaje się do treningu nawet bardzo głębokich sieci neuronowych. Nowsze funkcje aktywacji są głównie modyfikacjami ReLU.\n",
    "\n",
    "![relu](https://www.nomidl.com/wp-content/uploads/2022/04/image-10.png)"
   ]
  },
  {
   "cell_type": "markdown",
   "metadata": {},
   "source": [
    "### MLP w PyTorchu\n",
    "\n",
    "Warstwę neuronów w MLP nazywa się warstwą gęstą (*dense layer*) lub warstwą w pełni połączoną (*fully-connected layer*), i taki opis oznacza zwykle same neurony oraz funkcję aktywacji. PyTorch, jak już widzieliśmy, definiuje osobno transformację liniową oraz aktywację, a więc jedna warstwa składa się de facto z 2 obiektów, wywoływanych jeden po drugim. Inne frameworki, szczególnie wysokopoziomowe (np. Keras) łączą to często w jeden obiekt.\n",
    "\n",
    "MLP składa się zatem z sekwencji obiektów, które potem wywołuje się jeden po drugim, gdzie wyjście poprzedniego to wejście kolejnego. Ale nie można tutaj używać Pythonowych list! Z perspektywy PyTorcha to wtedy niezależne obiekty i nie zostanie wtedy przekazany między nimi gradient. Trzeba tutaj skorzystać z `nn.Sequential`, aby tworzyć taki pipeline.\n",
    "\n",
    "Rozmiary wejścia i wyjścia dla każdej warstwy trzeba w PyTorchu podawać explicite. Jest to po pierwsze edukacyjne, a po drugie często ułatwia wnioskowanie o działaniu sieci oraz jej debugowanie - mamy jasno podane, czego oczekujemy. Niektóre frameworki (np. Keras) obliczają to automatycznie.\n",
    "\n",
    "Co ważne, ostatnia warstwa zwykle nie ma funkcji aktywacji. Wynika to z tego, że obliczanie wielu funkcji kosztu (np. entropii krzyżowej) na aktywacjach jest często niestabilne numerycznie. Z tego powodu PyTorch oferuje funkcje kosztu zawierające w środku aktywację dla ostatniej warstwy, a ich implementacje są stabilne numerycznie. Przykładowo, `nn.BCELoss` przyjmuje wejście z zaaplikowanymi już aktywacjami, ale może skutkować under/overflow, natomiast `nn.BCEWithLogitsLoss` przyjmuje wejście bez aktywacji, a w środku ma specjalną implementację łączącą binarną entropię krzyżową z aktywacją sigmoidalną. Oczywiście w związku z tym aby dokonać potem predykcji w praktyce, trzeba pamiętać o użyciu funkcji aktywacji. Często korzysta się przy tym z funkcji z modułu `torch.nn.functional`, które są w tym wypadku nieco wygodniejsze od klas wywoływalnych z `torch.nn`.\n",
    "\n",
    "Całe sieci w PyTorchu tworzy się jako klasy dziedziczące po `nn.Module`. Co ważne, obiekty, z których tworzymy sieć, np. `nn.Linear`, także dziedziczą po tej klasie. Pozwala to na bardzo modułową budowę kodu, zgodną z zasadami OOP. W konstruktorze najpierw trzeba zawsze wywołać konstruktor rodzica - `super().__init__()`, a później tworzy się potrzebne obiekty i zapisuje jako atrybuty. Każdy atrybut dziedziczący po `nn.Module` lub `nn.Parameter` jest uważany za taki, który zawiera parametry sieci, a więc przy wywołaniu metody `parameters()` - parametry z tych atrybutów pojawią się w liście wszystkich parametrów. Musimy też zdefiniować metodę `forward()`, która przyjmuje tensor `x` i zwraca wynik. Typowo ta metoda po prostu używa obiektów zdefiniowanych w konstruktorze.\n",
    "\n",
    "\n",
    "**UWAGA: nigdy w normalnych warunkach się nie woła metody `forward` ręcznie**"
   ]
  },
  {
   "cell_type": "markdown",
   "metadata": {
    "id": "J8niDgExAMDO"
   },
   "source": [
    "#### Zadanie 4 (0.5 punktu)\n",
    "\n",
    "Uzupełnij implementację 3-warstwowej sieci MLP. Użyj rozmiarów:\n",
    "* pierwsza warstwa: input_size x 256\n",
    "* druga warstwa: 256 x 128\n",
    "* trzecia warstwa: 128 x 1\n",
    "\n",
    "Użyj funkcji aktywacji ReLU.\n",
    "\n",
    "Przydatne klasy:\n",
    "- `nn.Sequential`\n",
    "- `nn.Linear`\n",
    "- `nn.ReLU`"
   ]
  },
  {
   "cell_type": "code",
   "execution_count": 76,
   "metadata": {
    "ExecuteTime": {
     "end_time": "2023-11-29T21:50:06.896348Z",
     "start_time": "2023-11-29T21:50:06.864881Z"
    }
   },
   "outputs": [],
   "source": [
    "from torch import sigmoid\n",
    "\n",
    "\n",
    "class MLP(nn.Module):\n",
    "    def __init__(self, input_size: int):\n",
    "        super().__init__()\n",
    "        self.layers = nn.Sequential(\n",
    "            nn.Linear(input_size, 256),\n",
    "            nn.ReLU(),\n",
    "            nn.Linear(256, 128),\n",
    "            nn.ReLU(),\n",
    "            nn.Linear(128, 1),\n",
    "        )\n",
    "\n",
    "    def forward(self, x):\n",
    "        return self.layers(x)\n",
    "\n",
    "    def predict_proba(self, x):\n",
    "        return sigmoid(self(x))\n",
    "\n",
    "    def predict(self, x, threshold: float = 0.5):\n",
    "        y_pred_score = self.predict_proba(x)\n",
    "        return (y_pred_score > threshold).to(torch.int32)"
   ]
  },
  {
   "cell_type": "code",
   "execution_count": 77,
   "metadata": {
    "ExecuteTime": {
     "end_time": "2023-11-29T21:51:02.095409Z",
     "start_time": "2023-11-29T21:50:08.174501Z"
    }
   },
   "outputs": [
    {
     "name": "stdout",
     "output_type": "stream",
     "text": [
      "Epoch 0 train loss: 0.7125\n",
      "Epoch 200 train loss: 0.6875\n",
      "Epoch 400 train loss: 0.6656\n",
      "Epoch 600 train loss: 0.6462\n",
      "Epoch 800 train loss: 0.6289\n",
      "Epoch 1000 train loss: 0.6133\n",
      "Epoch 1200 train loss: 0.5994\n",
      "Epoch 1400 train loss: 0.5869\n",
      "Epoch 1600 train loss: 0.5758\n",
      "Epoch 1800 train loss: 0.5658\n",
      "final loss: 0.5570\n"
     ]
    }
   ],
   "source": [
    "learning_rate = 1e-3\n",
    "model = MLP(input_size=X_train.shape[1])\n",
    "optimizer = torch.optim.SGD(model.parameters(), lr=learning_rate)\n",
    "\n",
    "# note that we are using loss function with sigmoid built in\n",
    "loss_fn = torch.nn.BCEWithLogitsLoss()\n",
    "num_epochs = 2000\n",
    "evaluation_steps = 200\n",
    "\n",
    "for i in range(num_epochs):\n",
    "    y_pred = model(X_train)\n",
    "    loss = loss_fn(y_pred, y_train)\n",
    "    loss.backward()\n",
    "\n",
    "    optimizer.step()\n",
    "    optimizer.zero_grad()\n",
    "\n",
    "    if i % evaluation_steps == 0:\n",
    "        print(f\"Epoch {i} train loss: {loss.item():.4f}\")\n",
    "\n",
    "print(f\"final loss: {loss.item():.4f}\")"
   ]
  },
  {
   "cell_type": "code",
   "execution_count": 78,
   "metadata": {
    "colab": {
     "base_uri": "https://localhost:8080/"
    },
    "id": "LP5GSup24dXU",
    "outputId": "05f332c4-5d94-41f6-f85b-17793d3c4b49",
    "ExecuteTime": {
     "end_time": "2023-11-29T21:51:17.336128Z",
     "start_time": "2023-11-29T21:51:17.221757Z"
    }
   },
   "outputs": [
    {
     "name": "stdout",
     "output_type": "stream",
     "text": [
      "AUROC: 76.95%\n"
     ]
    },
    {
     "data": {
      "text/plain": "<Figure size 640x480 with 1 Axes>",
      "image/png": "[encoded data removed]"
     },
     "metadata": {},
     "output_type": "display_data"
    }
   ],
   "source": [
    "model.eval()\n",
    "with torch.no_grad():\n",
    "    # positive class probabilities\n",
    "    y_pred_valid_score = model.predict_proba(X_valid)\n",
    "    y_pred_test_score = model.predict_proba(X_test)\n",
    "\n",
    "auroc = roc_auc_score(y_test, y_pred_test_score)\n",
    "print(f\"AUROC: {100 * auroc:.2f}%\")\n",
    "\n",
    "plot_precision_recall_curve(y_valid, y_pred_valid_score)"
   ]
  },
  {
   "cell_type": "markdown",
   "metadata": {},
   "source": [
    "AUROC jest podobne, a precision i recall spadły - wypadamy wręcz gorzej od regresji liniowej! Skoro dodaliśmy więcej warstw, to może pojemność modelu jest teraz za duża i trzeba by go zregularyzować?\n",
    "\n",
    "Sieci neuronowe bardzo łatwo przeuczają, bo są bardzo elastycznymi i pojemnymi modelami. Dlatego mają wiele różnych rodzajów regularyzacji, których używa się razem. Co ciekawe, udowodniono eksperymentalnie, że zbyt duże sieci z mocną regularyzacją działają lepiej niż mniejsze sieci, odpowiedniego rozmiaru, za to ze słabszą regularyzacją.\n",
    "\n",
    "Pierwszy rodzaj regularyzacji to znana nam już **regularyzacja L2**, czyli penalizacja zbyt dużych wag. W kontekście sieci neuronowych nazywa się też ją czasem *weight decay*. W PyTorchu dodaje się ją jako argument do optymalizatora.\n",
    "\n",
    "Regularyzacja specyficzna dla sieci neuronowych to **dropout**. Polega on na losowym wyłączaniu zadanego procenta neuronów podczas treningu. Pomimo prostoty okazała się niesamowicie skuteczna, szczególnie w treningu bardzo głębokich sieci. Co ważne, jest to mechanizm używany tylko podczas treningu - w trakcie predykcji za pomocą sieci wyłącza się ten mechanizm i dokonuje normalnie predykcji całą siecią. Podejście to można potraktować jak ensemble learning, podobny do lasów losowych - wyłączając losowe części sieci, w każdej iteracji trenujemy nieco inną sieć, co odpowiada uśrednianiu predykcji różnych algorytmów. Typowo stosuje się dość mocny dropout, rzędu 25-50%. W PyTorchu implementuje go warstwa `nn.Dropout`, aplikowana zazwyczaj po funkcji aktywacji.\n",
    "\n",
    "Ostatni, a być może najważniejszy rodzaj regularyzacji to **wczesny stop (early stopping)**. W każdym kroku mocniej dostosowujemy terenową sieć do zbioru treningowego, a więc zbyt długi trening będzie skutkował przeuczeniem. W metodzie wczesnego stopu używamy wydzielonego zbioru walidacyjnego (pojedynczego, metoda holdout), sprawdzając co określoną liczbę epok wynik na tym zbiorze. Jeżeli nie uzyskamy wyniku lepszego od najlepszego dotychczas uzyskanego przez określoną liczbę epok, to przerywamy trening. Okres, przez który czekamy na uzyskanie lepszego wyniku, to cierpliwość (*patience*). Im mniejsze, tym mocniejszy jest ten rodzaj regularyzacji, ale trzeba z tym uważać, bo łatwo jest przesadzić i zbyt szybko przerywać trening. Niektóre implementacje uwzględniają tzw. *grace period*, czyli gwarantowaną minimalną liczbę epok, przez którą będziemy trenować sieć, niezależnie od wybranej cierpliwości.\n",
    "\n",
    "Dodatkowo ryzyko przeuczenia można zmniejszyć, używając mniejszej stałej uczącej."
   ]
  },
  {
   "cell_type": "markdown",
   "metadata": {},
   "source": [
    "#### Zadanie 5 (1.5 punktu)\n",
    "\n",
    "Zaimplementuj funkcję `evaluate_model()`, obliczającą metryki na zbiorze testowym:\n",
    "- wartość funkcji kosztu (loss)\n",
    "- AUROC\n",
    "- optymalny próg\n",
    "- F1-score przy optymalnym progu\n",
    "- precyzję oraz recall dla optymalnego progu\n",
    "\n",
    "Jeżeli podana jest wartość argumentu `threshold`, to użyj jej do zamiany prawdopodobieństw na twarde predykcje. W przeciwnym razie użyj funkcji `get_optimal_threshold` i oblicz optymalną wartość progu.\n",
    "\n",
    "Pamiętaj o przełączeniu modelu w tryb ewaluacji oraz o wyłączeniu obliczania gradientów."
   ]
  },
  {
   "cell_type": "code",
   "execution_count": 79,
   "metadata": {
    "ExecuteTime": {
     "end_time": "2023-11-29T21:51:20.245931Z",
     "start_time": "2023-11-29T21:51:20.223838Z"
    }
   },
   "outputs": [],
   "source": [
    "from typing import Optional\n",
    "from sklearn.metrics import (\n",
    "    precision_score,\n",
    "    recall_score,\n",
    "    f1_score,\n",
    "    roc_auc_score,\n",
    "    roc_curve,\n",
    ")\n",
    "\n",
    "\n",
    "def evaluate_model(\n",
    "    model: nn.Module,\n",
    "    X: torch.Tensor,\n",
    "    y: torch.Tensor,\n",
    "    loss_fn: nn.Module,\n",
    "    threshold: Optional[float] = None,\n",
    ") -> Dict[str, float]:\n",
    "    model.eval()\n",
    "    with torch.no_grad():\n",
    "        y_pred = model(X)\n",
    "        y_pred_proba = model.predict_proba(X)\n",
    "    loss = loss_fn(y_pred, y)\n",
    "\n",
    "    if threshold is None:\n",
    "        threshold = get_optimal_threshold(*precision_recall_curve(y, y_pred_proba))[1]\n",
    "    y_pred = (y_pred_proba > threshold).type(torch.int32)\n",
    "\n",
    "    precision = precision_score(y, y_pred)\n",
    "    recall = recall_score(y, y_pred)\n",
    "    f1 = f1_score(y, y_pred)\n",
    "    auroc = roc_auc_score(y, y_pred_proba)\n",
    "\n",
    "    return {\n",
    "        \"loss\": loss,\n",
    "        \"AUROC\": auroc,\n",
    "        \"optimal_threshold\": threshold,\n",
    "        \"F1-score\": f1,\n",
    "        \"precision\": precision,\n",
    "        \"recall\": recall,\n",
    "    }"
   ]
  },
  {
   "cell_type": "markdown",
   "metadata": {},
   "source": [
    "#### Zadanie 6 (0.5 punktu)\n",
    "\n",
    "Zaimplementuj 3-warstwową sieć MLP z dropout (50%). Rozmiary warstw ukrytych mają wynosić 256 i 128."
   ]
  },
  {
   "cell_type": "code",
   "execution_count": 80,
   "metadata": {
    "ExecuteTime": {
     "end_time": "2023-11-29T21:51:22.486798Z",
     "start_time": "2023-11-29T21:51:22.394783Z"
    }
   },
   "outputs": [],
   "source": [
    "class RegularizedMLP(nn.Module):\n",
    "    def __init__(self, input_size: int, dropout_p: float = 0.5):\n",
    "        super().__init__()\n",
    "        self.layers = nn.Sequential(\n",
    "            nn.Linear(input_size, 256),\n",
    "            nn.ReLU(),\n",
    "            nn.Dropout(dropout_p),\n",
    "            nn.Linear(256, 128),\n",
    "            nn.ReLU(),\n",
    "            nn.Dropout(dropout_p),\n",
    "            nn.Linear(128, 1),\n",
    "        )\n",
    "\n",
    "    def forward(self, x):\n",
    "        return self.layers(x)\n",
    "\n",
    "    def predict_proba(self, x):\n",
    "        return sigmoid(self(x))\n",
    "\n",
    "    def predict(self, x, threshold: float = 0.5):\n",
    "        y_pred_score = self.predict_proba(x)\n",
    "        return (y_pred_score > threshold).to(torch.int32)"
   ]
  },
  {
   "cell_type": "markdown",
   "metadata": {
    "id": "rEk9azaULAsz"
   },
   "source": [
    "Opisaliśmy wcześniej podstawowy optymalizator w sieciach neuronowych - spadek wzdłuż gradientu. Jednak wymaga on użycia całego zbioru danych, aby obliczyć gradient, co jest często niewykonalne przez rozmiar zbioru. Dlatego wymyślono **stochastyczny spadek wzdłuż gradientu (stochastic gradient descent, SGD)**, w którym używamy 1 przykładu naraz, liczymy gradient tylko po nim i aktualizujemy parametry. Jest to oczywiście dość grube przybliżenie gradientu, ale pozwala robić szybko dużo małych kroków. Kompromisem, którego używa się w praktyce, jest **minibatch gradient descent**, czyli używanie batchy np. 32, 64 czy 128 przykładów.\n",
    "\n",
    "Rzadko wspominanym, a ważnym faktem jest także to, że stochastyczność metody optymalizacji jest sama w sobie też [metodą regularyzacji](https://arxiv.org/abs/2101.12176), a więc `batch_size` to także hiperparametr.\n",
    "\n",
    "Obecnie najpopularniejszą odmianą SGD jest [Adam](https://arxiv.org/abs/1412.6980), gdyż uczy on szybko sieć oraz daje bardzo dobre wyniki nawet przy niekoniecznie idealnie dobranych hiperparametrach. W PyTorchu najlepiej korzystać z jego implementacji `AdamW`, która jest nieco lepsza niż implementacja `Adam`. Jest to zasadniczo zawsze wybór domyślny przy treningu współczesnych sieci neuronowych.\n",
    "\n",
    "Na razie użyjemy jednak minibatch SGD."
   ]
  },
  {
   "cell_type": "markdown",
   "metadata": {},
   "source": [
    "Poniżej znajduje się implementacja prostej klasy dziedziczącej po `Dataset` - tak w PyTorchu implementuje się własne zbiory danych. Użycie takich klas umożliwia użycie klas ładujących dane (`DataLoader`), które z kolei pozwalają łatwo ładować batche danych. Trzeba w takiej klasie zaimplementować metody:\n",
    "- `__len__` - zwraca ilość punktów w zbiorze\n",
    "- `__getitem__` - zwraca przykład ze zbioru pod danym indeksem oraz jego klasę\n"
   ]
  },
  {
   "cell_type": "code",
   "execution_count": 81,
   "metadata": {
    "ExecuteTime": {
     "end_time": "2023-11-29T21:51:25.662439Z",
     "start_time": "2023-11-29T21:51:25.508849Z"
    }
   },
   "outputs": [],
   "source": [
    "from torch.utils.data import Dataset\n",
    "\n",
    "\n",
    "class MyDataset(Dataset):\n",
    "    def __init__(self, data, y):\n",
    "        super().__init__()\n",
    "\n",
    "        self.data = data\n",
    "        self.y = y\n",
    "\n",
    "    def __len__(self):\n",
    "        return self.data.shape[0]\n",
    "\n",
    "    def __getitem__(self, idx):\n",
    "        return self.data[idx], self.y[idx]"
   ]
  },
  {
   "cell_type": "markdown",
   "metadata": {},
   "source": [
    "#### Zadanie 7 (1.5 punktu)\n",
    "\n",
    "Zaimplementuj pętlę treningowo-walidacyjną dla sieci neuronowej. Wykorzystaj podane wartości hiperparametrów do treningu (stała ucząca, prawdopodobieństwo dropoutu, regularyzacja L2, rozmiar batcha, maksymalna liczba epok). Użyj optymalizatora SGD.\n",
    "\n",
    "Dodatkowo zaimplementuj regularyzację przez early stopping. Sprawdzaj co epokę wynik na zbiorze walidacyjnym. Użyj podanej wartości patience, a jako metryki po prostu wartości funkcji kosztu. Może się tutaj przydać zaimplementowana funkcja `evaluate_model()`.\n",
    "\n",
    "Pamiętaj o tym, aby przechowywać najlepszy dotychczasowy wynik walidacyjny oraz najlepszy dotychczasowy model. Zapamiętaj też optymalny próg do klasyfikacji dla najlepszego modelu."
   ]
  },
  {
   "cell_type": "code",
   "execution_count": 82,
   "metadata": {
    "ExecuteTime": {
     "end_time": "2023-11-29T21:51:27.349507Z",
     "start_time": "2023-11-29T21:51:27.307136Z"
    }
   },
   "outputs": [],
   "source": [
    "from copy import deepcopy\n",
    "\n",
    "from torch.utils.data import DataLoader\n",
    "\n",
    "\n",
    "learning_rate = 1e-3\n",
    "dropout_p = 0.5\n",
    "l2_reg = 1e-4\n",
    "batch_size = 128\n",
    "max_epochs = 300\n",
    "\n",
    "early_stopping_patience = 4"
   ]
  },
  {
   "cell_type": "code",
   "execution_count": 83,
   "metadata": {
    "scrolled": true,
    "ExecuteTime": {
     "end_time": "2023-11-29T21:52:41.064357Z",
     "start_time": "2023-11-29T21:51:28.604799Z"
    }
   },
   "outputs": [
    {
     "name": "stdout",
     "output_type": "stream",
     "text": [
      "Epoch 0 train loss: 0.6670, eval loss 0.6638395190238953\n",
      "Epoch 20 train loss: 0.5402, eval loss 0.5404382348060608\n",
      "Epoch 40 train loss: 0.4867, eval loss 0.4785994589328766\n",
      "Epoch 60 train loss: 0.4401, eval loss 0.4117394983768463\n",
      "Epoch 80 train loss: 0.3962, eval loss 0.37246254086494446\n",
      "Epoch 100 train loss: 0.4199, eval loss 0.35758838057518005\n",
      "Epoch 120 train loss: 0.3986, eval loss 0.35057321190834045\n",
      "Epoch 140 train loss: 0.3805, eval loss 0.3458937406539917\n",
      "Epoch 160 train loss: 0.3909, eval loss 0.34227240085601807\n",
      "Epoch 180 train loss: 0.3855, eval loss 0.3392297923564911\n",
      "Epoch 200 train loss: 0.3895, eval loss 0.3366129994392395\n",
      "Epoch 220 train loss: 0.4218, eval loss 0.3344348967075348\n",
      "Epoch 240 train loss: 0.3829, eval loss 0.3324805796146393\n",
      "Epoch 260 train loss: 0.3626, eval loss 0.33080384135246277\n",
      "Epoch 280 train loss: 0.3621, eval loss 0.32934027910232544\n"
     ]
    }
   ],
   "source": [
    "model = RegularizedMLP(input_size=X_train.shape[1], dropout_p=dropout_p)\n",
    "optimizer = torch.optim.SGD(model.parameters(), lr=learning_rate, weight_decay=l2_reg)\n",
    "loss_fn = torch.nn.BCEWithLogitsLoss()\n",
    "\n",
    "train_dataset = MyDataset(X_train, y_train)\n",
    "train_dataloader = DataLoader(train_dataset, batch_size=batch_size)\n",
    "\n",
    "steps_without_improvement = 0\n",
    "\n",
    "best_val_loss = np.inf\n",
    "best_model = None\n",
    "best_threshold = None\n",
    "\n",
    "for epoch_num in range(max_epochs):\n",
    "    model.train()\n",
    "\n",
    "    for X_batch, y_batch in train_dataloader:\n",
    "        y_pred = model(X_batch)\n",
    "        loss = loss_fn(y_pred, y_batch)\n",
    "\n",
    "        optimizer.zero_grad()\n",
    "        loss.backward()\n",
    "        optimizer.step()\n",
    "\n",
    "    valid_metrics = evaluate_model(model, X_valid, y_valid, loss_fn)\n",
    "    val_loss = valid_metrics[\"loss\"]\n",
    "\n",
    "    if val_loss < best_val_loss:\n",
    "        best_val_loss = val_loss\n",
    "        best_model = deepcopy(model)\n",
    "        best_threshold = valid_metrics[\"optimal_threshold\"]\n",
    "        steps_without_improvement = 0\n",
    "    else:\n",
    "        steps_without_improvement += 1\n",
    "\n",
    "    if steps_without_improvement >= early_stopping_patience:\n",
    "        print(\"Early stopping triggered\")\n",
    "        break\n",
    "\n",
    "    if epoch_num % 20 == 0:\n",
    "        print(\n",
    "            f\"Epoch {epoch_num} train loss: {loss.item():.4f}, eval loss {valid_metrics['loss']}\"\n",
    "        )"
   ]
  },
  {
   "cell_type": "markdown",
   "metadata": {},
   "source": []
  },
  {
   "cell_type": "code",
   "execution_count": 84,
   "metadata": {
    "ExecuteTime": {
     "end_time": "2023-11-29T21:53:49.091207Z",
     "start_time": "2023-11-29T21:53:48.929905Z"
    }
   },
   "outputs": [
    {
     "name": "stdout",
     "output_type": "stream",
     "text": [
      "AUROC: 90.16%\n",
      "F1: 68.03%\n",
      "Precision: 64.53%\n",
      "Recall: 71.94%\n"
     ]
    }
   ],
   "source": [
    "test_metrics = evaluate_model(best_model, X_test, y_test, loss_fn, best_threshold)\n",
    "\n",
    "print(f\"AUROC: {100 * test_metrics['AUROC']:.2f}%\")\n",
    "print(f\"F1: {100 * test_metrics['F1-score']:.2f}%\")\n",
    "print(f\"Precision: {100 * test_metrics['precision']:.2f}%\")\n",
    "print(f\"Recall: {100 * test_metrics['recall']:.2f}%\")"
   ]
  },
  {
   "cell_type": "markdown",
   "metadata": {},
   "source": [
    "Wyniki wyglądają już dużo lepiej.\n",
    "\n",
    "Na koniec laboratorium dołożymy do naszego modelu jeszcze 3 powrzechnie używane techniki, które są bardzo proste, a pozwalają często ulepszyć wynik modelu.\n",
    "\n",
    "Pierwszą z nich są **warstwy normalizacji (normalization layers)**. Powstały one początkowo z założeniem, że przez przekształcenia przestrzeni dokonywane przez sieć zmienia się rozkład prawdopodobieństw pomiędzy warstwami, czyli tzw. *internal covariate shift*. Później okazało się, że zastosowanie takiej normalizacji wygładza powierzchnię funkcji kosztu, co ułatwia i przyspiesza optymalizację. Najpowszechniej używaną normalizacją jest **batch normalization (batch norm)**.\n",
    "\n",
    "Drugim ulepszeniem jest dodanie **wag klas (class weights)**. Mamy do czynienia z problemem klasyfikacji niezbalansowanej, więc klasa mniejszościowa, ważniejsza dla nas, powinna dostać większą wagę. Implementuje się to trywialnie prosto - po prostu mnożymy wartość funkcji kosztu dla danego przykładu przez wagę dla prawdziwej klasy tego przykładu. Praktycznie każdy klasyfikator operujący na jakiejś ważonej funkcji może działać w ten sposób, nie tylko sieci neuronowe.\n",
    "\n",
    "Ostatnim ulepszeniem jest zamiana SGD na optymalizator Adam, a konkretnie na optymalizator `AdamW`. Jest to przykład **optymalizatora adaptacyjnego (adaptive optimizer)**, który potrafi zaadaptować stałą uczącą dla każdego parametru z osobna w trakcie treningu. Wykorzystuje do tego gradienty - w uproszczeniu, im większa wariancja gradientu, tym mniejsze kroki w tym kierunku robimy."
   ]
  },
  {
   "cell_type": "markdown",
   "metadata": {},
   "source": [
    "#### Zadanie 8 (0.5 punktu)\n",
    "\n",
    "Zaimplementuj model `NormalizingMLP`, o takiej samej strukturze jak `RegularizedMLP`, ale dodatkowo z warstwami `BatchNorm1d` pomiędzy warstwami `Linear` oraz `ReLU`.\n",
    "\n",
    "Za pomocą funkcji `compute_class_weight()` oblicz wagi dla poszczególnych klas. Użyj opcji `\"balanced\"`. Przekaż do funkcji kosztu wagę klasy pozytywnej (pamiętaj, aby zamienić ją na tensor).\n",
    "\n",
    "Zamień używany optymalizator na `AdamW`.\n",
    "\n",
    "Na koniec skopiuj resztę kodu do treningu z poprzedniego zadania, wytrenuj sieć i oblicz wyniki na zbiorze testowym."
   ]
  },
  {
   "cell_type": "code",
   "execution_count": 91,
   "metadata": {
    "ExecuteTime": {
     "end_time": "2023-11-29T22:00:20.693930Z",
     "start_time": "2023-11-29T22:00:20.662879Z"
    }
   },
   "outputs": [],
   "source": [
    "class NormalizingMLP(nn.Module):\n",
    "    def __init__(self, input_size: int, dropout_p: float = 0.5):\n",
    "        super().__init__()\n",
    "        self.mlp = nn.Sequential(\n",
    "            nn.Linear(input_size, 256),\n",
    "            nn.BatchNorm1d(256),\n",
    "            nn.ReLU(),\n",
    "            nn.Dropout(dropout_p),\n",
    "            nn.Linear(256, 128),\n",
    "            nn.BatchNorm1d(128),\n",
    "            nn.ReLU(),\n",
    "            nn.Dropout(dropout_p),\n",
    "            nn.Linear(128, 1),\n",
    "        )\n",
    "\n",
    "    def forward(self, x):\n",
    "        return self.mlp(x)\n",
    "\n",
    "    def predict_proba(self, x):\n",
    "        return sigmoid(self(x))\n",
    "\n",
    "    def predict(self, x, threshold: float = 0.5):\n",
    "        y_pred_score = self.predict_proba(x)\n",
    "        return (y_pred_score > threshold).to(torch.int32)"
   ]
  },
  {
   "cell_type": "code",
   "execution_count": 92,
   "metadata": {
    "ExecuteTime": {
     "end_time": "2023-11-29T22:00:25.512554Z",
     "start_time": "2023-11-29T22:00:25.476684Z"
    }
   },
   "outputs": [],
   "source": [
    "learning_rate = 1e-3\n",
    "dropout_p = 0.5\n",
    "l2_reg = 1e-4\n",
    "batch_size = 128\n",
    "max_epochs = 300\n",
    "early_stopping_patience = 4"
   ]
  },
  {
   "cell_type": "code",
   "execution_count": 93,
   "metadata": {
    "scrolled": true,
    "ExecuteTime": {
     "end_time": "2023-11-29T22:00:38.554710Z",
     "start_time": "2023-11-29T22:00:26.497539Z"
    }
   },
   "outputs": [
    {
     "name": "stdout",
     "output_type": "stream",
     "text": [
      "Epoch 0 train loss: 0.6008, eval loss 0.4833603799343109\n",
      "Epoch 1 train loss: 0.5489, eval loss 0.4759344756603241\n",
      "Epoch 2 train loss: 0.4948, eval loss 0.47265249490737915\n",
      "Epoch 3 train loss: 0.5352, eval loss 0.4725360572338104\n",
      "Epoch 4 train loss: 0.5249, eval loss 0.4725573658943176\n",
      "Epoch 5 train loss: 0.5316, eval loss 0.474226713180542\n",
      "Epoch 6 train loss: 0.5256, eval loss 0.47230198979377747\n",
      "Epoch 7 train loss: 0.5628, eval loss 0.47018685936927795\n",
      "Epoch 8 train loss: 0.5466, eval loss 0.4723339378833771\n",
      "Epoch 9 train loss: 0.5540, eval loss 0.4718932807445526\n",
      "Epoch 10 train loss: 0.5549, eval loss 0.473997563123703\n",
      "Early stopping triggered\n"
     ]
    }
   ],
   "source": [
    "from sklearn.utils.class_weight import compute_class_weight\n",
    "\n",
    "class_weights = compute_class_weight(\n",
    "    \"balanced\", classes=np.unique(y_train), y=y_train.squeeze().numpy()\n",
    ")\n",
    "class_weights_tensor = torch.tensor(class_weights, dtype=torch.float32)\n",
    "\n",
    "model = NormalizingMLP(input_size=X_train.shape[1], dropout_p=dropout_p)\n",
    "\n",
    "loss_fn = torch.nn.BCEWithLogitsLoss(pos_weight=class_weights_tensor[1])\n",
    "\n",
    "optimizer = torch.optim.AdamW(model.parameters(), lr=learning_rate, weight_decay=l2_reg)\n",
    "train_dataset = MyDataset(X_train, y_train)\n",
    "train_dataloader = DataLoader(train_dataset, batch_size=batch_size)\n",
    "\n",
    "steps_without_improvement = 0\n",
    "\n",
    "best_val_loss = np.inf\n",
    "best_model = None\n",
    "best_threshold = None\n",
    "\n",
    "for epoch_num in range(max_epochs):\n",
    "    model.train()\n",
    "\n",
    "    for X_batch, y_batch in train_dataloader:\n",
    "        y_pred = model(X_batch)\n",
    "        loss = loss_fn(y_pred, y_batch)\n",
    "\n",
    "        optimizer.zero_grad()\n",
    "        loss.backward()\n",
    "        optimizer.step()\n",
    "\n",
    "    valid_metrics = evaluate_model(model, X_valid, y_valid, loss_fn)\n",
    "    val_loss = valid_metrics[\"loss\"]\n",
    "\n",
    "    if val_loss < best_val_loss:\n",
    "        best_val_loss = val_loss\n",
    "        best_model = deepcopy(model)\n",
    "        best_threshold = valid_metrics[\"optimal_threshold\"]\n",
    "        steps_without_improvement = 0\n",
    "    else:\n",
    "        steps_without_improvement += 1\n",
    "\n",
    "    if steps_without_improvement >= early_stopping_patience:\n",
    "        print(\"Early stopping triggered\")\n",
    "        break\n",
    "\n",
    "    print(\n",
    "        f\"Epoch {epoch_num} train loss: {loss.item():.4f}, eval loss {valid_metrics['loss']}\"\n",
    "    )"
   ]
  },
  {
   "cell_type": "code",
   "execution_count": 94,
   "metadata": {
    "scrolled": true,
    "ExecuteTime": {
     "end_time": "2023-11-29T22:00:43.709017Z",
     "start_time": "2023-11-29T22:00:43.641307Z"
    }
   },
   "outputs": [
    {
     "name": "stdout",
     "output_type": "stream",
     "text": [
      "AUROC: 90.81%\n",
      "F1: 69.96%\n",
      "Precision: 61.60%\n",
      "Recall: 80.93%\n"
     ]
    }
   ],
   "source": [
    "test_metrics = evaluate_model(best_model, X_test, y_test, loss_fn, best_threshold)\n",
    "\n",
    "print(f\"AUROC: {100 * test_metrics['AUROC']:.2f}%\")\n",
    "print(f\"F1: {100 * test_metrics['F1-score']:.2f}%\")\n",
    "print(f\"Precision: {100 * test_metrics['precision']:.2f}%\")\n",
    "print(f\"Recall: {100 * test_metrics['recall']:.2f}%\")"
   ]
  },
  {
   "cell_type": "markdown",
   "metadata": {
    "id": "XyoRnHT4GFR9"
   },
   "source": [
    "## Akceleracja sprzętowa (dla zainteresowanych)"
   ]
  },
  {
   "cell_type": "markdown",
   "metadata": {},
   "source": [
    "Jak wcześniej wspominaliśmy, użycie akceleracji sprzętowej, czyli po prostu GPU do obliczeń, jest bardzo efektywne w przypadku sieci neuronowych. Karty graficzne bardzo efektywnie mnożą macierze, a sieci neuronowe to, jak można było się przekonać, dużo mnożenia macierzy.\n",
    "\n",
    "W PyTorchu jest to dosyć łatwe, ale trzeba robić to explicite. Służy do tego metoda `.to()`, która przenosi tensory między CPU i GPU. Poniżej przykład, jak to się robi (oczywiście trzeba mieć skonfigurowane GPU, żeby działało):"
   ]
  },
  {
   "cell_type": "code",
   "execution_count": 42,
   "metadata": {
    "ExecuteTime": {
     "end_time": "2023-11-29T20:51:01.908918Z",
     "start_time": "2023-11-29T20:51:01.898922Z"
    }
   },
   "outputs": [],
   "source": [
    "import time\n",
    "\n",
    "\n",
    "class CudaMLP(nn.Module):\n",
    "    def __init__(self, input_size: int, dropout_p: float = 0.5):\n",
    "        super().__init__()\n",
    "\n",
    "        self.mlp = nn.Sequential(\n",
    "            nn.Linear(input_size, 512),\n",
    "            nn.BatchNorm1d(512),\n",
    "            nn.ReLU(),\n",
    "            nn.Dropout(dropout_p),\n",
    "            nn.Linear(512, 256),\n",
    "            nn.BatchNorm1d(256),\n",
    "            nn.ReLU(),\n",
    "            nn.Dropout(dropout_p),\n",
    "            nn.Linear(256, 256),\n",
    "            nn.BatchNorm1d(256),\n",
    "            nn.ReLU(),\n",
    "            nn.Dropout(dropout_p),\n",
    "            nn.Linear(256, 128),\n",
    "            nn.BatchNorm1d(128),\n",
    "            nn.ReLU(),\n",
    "            nn.Dropout(dropout_p),\n",
    "            nn.Linear(128, 1),\n",
    "        )\n",
    "\n",
    "    def forward(self, x):\n",
    "        return self.mlp(x)\n",
    "\n",
    "    def predict_proba(self, x):\n",
    "        return sigmoid(self(x))\n",
    "\n",
    "    def predict(self, x, threshold: float = 0.5):\n",
    "        y_pred_score = self.predict_proba(x)\n",
    "        return (y_pred_score > threshold).to(torch.int32)\n",
    "\n",
    "\n",
    "model = CudaMLP(X_train.shape[1]).to(\"cuda\")\n",
    "\n",
    "optimizer = torch.optim.AdamW(model.parameters(), lr=learning_rate, weight_decay=1e-4)\n",
    "\n",
    "# note that we are using loss function with sigmoid built in\n",
    "loss_fn = torch.nn.BCEWithLogitsLoss(pos_weight=torch.from_numpy(weights)[1].to(\"cuda\"))\n",
    "\n",
    "step_counter = 0\n",
    "time_from_eval = time.time()\n",
    "for epoch_id in range(30):\n",
    "    for batch_x, batch_y in train_dataloader:\n",
    "        batch_x = batch_x.to(\"cuda\")\n",
    "        batch_y = batch_y.to(\"cuda\")\n",
    "\n",
    "        loss = loss_fn(model(batch_x), batch_y)\n",
    "        loss.backward()\n",
    "\n",
    "        optimizer.step()\n",
    "        optimizer.zero_grad()\n",
    "\n",
    "        if step_counter % evaluation_steps == 0:\n",
    "            print(\n",
    "                f\"Epoch {epoch_id} train loss: {loss.item():.4f}, time: {time.time() - time_from_eval}\"\n",
    "            )\n",
    "            time_from_eval = time.time()\n",
    "\n",
    "        step_counter += 1\n",
    "\n",
    "test_res = evaluate_model(\n",
    "    model.to(\"cpu\"), X_test, y_test, loss_fn.to(\"cpu\"), threshold=0.5\n",
    ")\n",
    "\n",
    "print(f\"AUROC: {100 * test_res['AUROC']:.2f}%\")\n",
    "print(f\"F1: {100 * test_res['F1-score']:.2f}%\")\n",
    "print(test_res)"
   ]
  },
  {
   "cell_type": "markdown",
   "metadata": {},
   "source": [
    "Co prawda ten model nie będzie tak dobry jak ten z laboratorium, ale zwróć uwagę, o ile jest większy, a przy tym szybszy.\n",
    "\n",
    "Dla zainteresowanych polecamy [tę serie artykułów](https://medium.com/@adi.fu7/ai-accelerators-part-i-intro-822c2cdb4ca4)"
   ]
  },
  {
   "cell_type": "markdown",
   "metadata": {},
   "source": [
    "## Zadanie dla chętnych"
   ]
  },
  {
   "cell_type": "markdown",
   "metadata": {},
   "source": [
    "Jak widzieliśmy, sieci neuronowe mają bardzo dużo hiperparametrów. Przeszukiwanie ich grid search'em jest więc niewykonalne, a chociaż random search by działał, to potrzebowałby wielu iteracji, co też jest kosztowne obliczeniowo.\n",
    "\n",
    "Zaimplementuj inteligentne przeszukiwanie przestrzeni hiperparametrów za pomocą biblioteki [Optuna](https://optuna.org/). Implementuje ona między innymi algorytm Tree Parzen Estimator (TPE), należący do grupy algorytmów typu Bayesian search. Typowo osiągają one bardzo dobre wyniki, a właściwie zawsze lepsze od przeszukiwania losowego. Do tego wystarcza im często niewielka liczba kroków.\n",
    "\n",
    "Zaimplementuj 3-warstwową sieć MLP, gdzie pierwsza warstwa ma rozmiar ukryty N, a druga N // 2. Ucz ją optymalizatorem Adam przez maksymalnie 300 epok z cierpliwością 10.\n",
    "\n",
    "Przeszukaj wybrane zakresy dla hiperparametrów:\n",
    "- rozmiar warstw ukrytych (N)\n",
    "- stała ucząca\n",
    "- batch size\n",
    "- siła regularyzacji L2\n",
    "- prawdopodobieństwo dropoutu\n",
    "\n",
    "Wykorzystaj przynajmniej 30 iteracji. Następnie przełącz algorytm na losowy (Optuna także jego implementuje), wykonaj 30 iteracji i porównaj jakość wyników.\n",
    "\n",
    "Przydatne materiały:\n",
    "- [Optuna code examples - PyTorch](https://optuna.org/#code_examples)\n",
    "- [Auto-Tuning Hyperparameters with Optuna and PyTorch](https://www.youtube.com/watch?v=P6NwZVl8ttc)\n",
    "- [Hyperparameter Tuning of Neural Networks with Optuna and PyTorch](https://towardsdatascience.com/hyperparameter-tuning-of-neural-networks-with-optuna-and-pytorch-22e179efc837)\n",
    "- [Using Optuna to Optimize PyTorch Hyperparameters](https://medium.com/pytorch/using-optuna-to-optimize-pytorch-hyperparameters-990607385e36)"
   ]
  },
  {
   "cell_type": "code",
   "execution_count": 89,
   "metadata": {
    "ExecuteTime": {
     "end_time": "2023-11-29T21:54:42.001469Z",
     "start_time": "2023-11-29T21:54:41.963611Z"
    }
   },
   "outputs": [],
   "source": [
    "class NormalizingMLP(nn.Module):\n",
    "    def __init__(self, input_size: int, hidden_size: int, dropout_p: float = 0.5):\n",
    "        super().__init__()\n",
    "        self.mlp = nn.Sequential(\n",
    "            nn.Linear(input_size, hidden_size),\n",
    "            nn.BatchNorm1d(hidden_size),\n",
    "            nn.ReLU(),\n",
    "            nn.Dropout(dropout_p),\n",
    "            nn.Linear(hidden_size, hidden_size // 2),\n",
    "            nn.BatchNorm1d(hidden_size // 2),\n",
    "            nn.ReLU(),\n",
    "            nn.Dropout(dropout_p),\n",
    "            nn.Linear(hidden_size // 2, 1),\n",
    "        )\n",
    "\n",
    "    def forward(self, x):\n",
    "        return self.mlp(x)\n",
    "\n",
    "    def predict_proba(self, x):\n",
    "        return sigmoid(self(x))\n",
    "\n",
    "    def predict(self, x, threshold: float = 0.5):\n",
    "        y_pred_score = self.predict_proba(x)\n",
    "        return (y_pred_score > threshold).to(torch.int32)"
   ]
  },
  {
   "cell_type": "code",
   "execution_count": 90,
   "metadata": {
    "scrolled": false,
    "ExecuteTime": {
     "end_time": "2023-11-29T21:57:09.177136Z",
     "start_time": "2023-11-29T21:54:50.298170Z"
    }
   },
   "outputs": [
    {
     "name": "stderr",
     "output_type": "stream",
     "text": [
      "[I 2023-11-29 22:54:50,295] A new study created in memory with name: no-name-4d2dca44-4def-4a0e-a5ed-75a3aa033f19\n",
      "[I 2023-11-29 22:54:53,251] Trial 0 finished with value: 0.904539616502385 and parameters: {'N': 254, 'lr': 0.011035900027002851, 'batch_size': 32, 'weight_decay': 8.616118031468736e-07, 'dropout_p': 0.3791423550098724}. Best is trial 0 with value: 0.904539616502385.\n",
      "[I 2023-11-29 22:54:56,008] Trial 1 finished with value: 0.8837985101314085 and parameters: {'N': 346, 'lr': 2.147509354058787e-05, 'batch_size': 32, 'weight_decay': 7.854618134112322e-05, 'dropout_p': 0.30542333126657856}. Best is trial 0 with value: 0.904539616502385.\n",
      "[I 2023-11-29 22:54:56,848] Trial 2 finished with value: 0.9073056950453559 and parameters: {'N': 420, 'lr': 0.06182826618378547, 'batch_size': 256, 'weight_decay': 4.506325313771556e-05, 'dropout_p': 0.14381139675463883}. Best is trial 2 with value: 0.9073056950453559.\n",
      "[I 2023-11-29 22:54:57,298] Trial 3 finished with value: 0.7491367526102921 and parameters: {'N': 191, 'lr': 1.762167613709163e-05, 'batch_size': 256, 'weight_decay': 4.551856440612298e-08, 'dropout_p': 0.4833489446499294}. Best is trial 2 with value: 0.9073056950453559.\n",
      "[I 2023-11-29 22:54:57,995] Trial 4 finished with value: 0.8973620561999789 and parameters: {'N': 44, 'lr': 0.0012138767630977276, 'batch_size': 128, 'weight_decay': 4.5640207111270235e-05, 'dropout_p': 0.2989821303872374}. Best is trial 2 with value: 0.9073056950453559.\n",
      "[I 2023-11-29 22:54:59,114] Trial 5 finished with value: 0.8448780856347051 and parameters: {'N': 197, 'lr': 3.615239424409706e-05, 'batch_size': 256, 'weight_decay': 1.6853876645766708e-10, 'dropout_p': 0.4094847631164956}. Best is trial 2 with value: 0.9073056950453559.\n",
      "[I 2023-11-29 22:55:00,804] Trial 6 finished with value: 0.9044616477201182 and parameters: {'N': 42, 'lr': 0.02323923228735954, 'batch_size': 32, 'weight_decay': 1.2009115014172267e-05, 'dropout_p': 0.20418273751798205}. Best is trial 2 with value: 0.9073056950453559.\n",
      "[I 2023-11-29 22:55:02,693] Trial 7 finished with value: 0.880034451322397 and parameters: {'N': 351, 'lr': 3.0368965279124032e-05, 'batch_size': 64, 'weight_decay': 5.406093050705763e-08, 'dropout_p': 0.306381429283593}. Best is trial 2 with value: 0.9073056950453559.\n",
      "[I 2023-11-29 22:55:03,767] Trial 8 finished with value: 0.9022039780196534 and parameters: {'N': 53, 'lr': 0.00514275014132216, 'batch_size': 64, 'weight_decay': 7.68450596230031e-06, 'dropout_p': 0.15504575870411014}. Best is trial 2 with value: 0.9073056950453559.\n",
      "[I 2023-11-29 22:55:04,546] Trial 9 finished with value: 0.9058848298336364 and parameters: {'N': 391, 'lr': 0.01370338023687615, 'batch_size': 256, 'weight_decay': 2.0620951471426464e-07, 'dropout_p': 0.40676728804166423}. Best is trial 2 with value: 0.9073056950453559.\n",
      "[I 2023-11-29 22:55:06,074] Trial 10 finished with value: 0.893721296860598 and parameters: {'N': 506, 'lr': 0.0854577707630463, 'batch_size': 128, 'weight_decay': 0.000345974645150167, 'dropout_p': 0.027995147463741876}. Best is trial 2 with value: 0.9073056950453559.\n",
      "[I 2023-11-29 22:55:07,251] Trial 11 finished with value: 0.9043727995728842 and parameters: {'N': 477, 'lr': 0.08820534713009671, 'batch_size': 256, 'weight_decay': 1.173744555343365e-06, 'dropout_p': 0.14757987387606006}. Best is trial 2 with value: 0.9073056950453559.\n",
      "[I 2023-11-29 22:55:08,033] Trial 12 finished with value: 0.903246986768476 and parameters: {'N': 409, 'lr': 0.01754123935215276, 'batch_size': 256, 'weight_decay': 0.0004614664705360832, 'dropout_p': 0.4810536861677377}. Best is trial 2 with value: 0.9073056950453559.\n",
      "[I 2023-11-29 22:55:09,072] Trial 13 finished with value: 0.9066484000785732 and parameters: {'N': 420, 'lr': 0.002458875267104094, 'batch_size': 256, 'weight_decay': 0.0008630990635265412, 'dropout_p': 0.09991129677559406}. Best is trial 2 with value: 0.9073056950453559.\n",
      "[I 2023-11-29 22:55:10,292] Trial 14 finished with value: 0.9078713212888019 and parameters: {'N': 446, 'lr': 0.0019356968937997313, 'batch_size': 256, 'weight_decay': 0.0005381832420460796, 'dropout_p': 0.06973450541958678}. Best is trial 14 with value: 0.9078713212888019.\n",
      "[I 2023-11-29 22:55:11,005] Trial 15 finished with value: 0.9031786885328471 and parameters: {'N': 300, 'lr': 0.00032257965054437225, 'batch_size': 256, 'weight_decay': 0.0009745810713354261, 'dropout_p': 0.010513491300507438}. Best is trial 14 with value: 0.9078713212888019.\n",
      "[I 2023-11-29 22:55:12,012] Trial 16 finished with value: 0.9059027606388603 and parameters: {'N': 462, 'lr': 0.0003591547609547759, 'batch_size': 256, 'weight_decay': 6.04985144786961e-05, 'dropout_p': 0.09055118586799826}. Best is trial 14 with value: 0.9078713212888019.\n",
      "[I 2023-11-29 22:55:13,944] Trial 17 finished with value: 0.9048555210258837 and parameters: {'N': 438, 'lr': 0.0038598607528996793, 'batch_size': 64, 'weight_decay': 0.00011389865737188758, 'dropout_p': 0.20779477626196685}. Best is trial 14 with value: 0.9078713212888019.\n",
      "[I 2023-11-29 22:55:15,183] Trial 18 finished with value: 0.9022900055907848 and parameters: {'N': 510, 'lr': 0.02928493984105012, 'batch_size': 128, 'weight_decay': 6.44653366308615e-06, 'dropout_p': 0.06366926094210036}. Best is trial 14 with value: 0.9078713212888019.\n",
      "[I 2023-11-29 22:55:16,006] Trial 19 finished with value: 0.8996158979757328 and parameters: {'N': 337, 'lr': 0.043709528943188726, 'batch_size': 256, 'weight_decay': 0.0001727301880768906, 'dropout_p': 0.13124964468738493}. Best is trial 14 with value: 0.9078713212888019.\n",
      "[I 2023-11-29 22:55:17,078] Trial 20 finished with value: 0.906902453397535 and parameters: {'N': 272, 'lr': 0.006425384474697497, 'batch_size': 256, 'weight_decay': 1.6737410522655006e-05, 'dropout_p': 0.06785729938348306}. Best is trial 14 with value: 0.9078713212888019.\n",
      "[I 2023-11-29 22:55:17,802] Trial 21 finished with value: 0.906503543348729 and parameters: {'N': 237, 'lr': 0.006143421871947044, 'batch_size': 256, 'weight_decay': 2.9565203964238598e-05, 'dropout_p': 0.07081281056723104}. Best is trial 14 with value: 0.9078713212888019.\n",
      "[I 2023-11-29 22:55:18,394] Trial 22 finished with value: 0.904178784230965 and parameters: {'N': 126, 'lr': 0.007908434957615259, 'batch_size': 256, 'weight_decay': 0.0002043329327120349, 'dropout_p': 0.008100725270593037}. Best is trial 14 with value: 0.9078713212888019.\n",
      "[I 2023-11-29 22:55:19,378] Trial 23 finished with value: 0.9045850479246099 and parameters: {'N': 302, 'lr': 0.002031912160913849, 'batch_size': 256, 'weight_decay': 1.6015344280057823e-05, 'dropout_p': 0.06729368795030496}. Best is trial 14 with value: 0.9078713212888019.\n",
      "[I 2023-11-29 22:55:20,560] Trial 24 finished with value: 0.904901456122413 and parameters: {'N': 377, 'lr': 0.037814573321154996, 'batch_size': 256, 'weight_decay': 0.00012305256974291817, 'dropout_p': 0.13195761208102527}. Best is trial 14 with value: 0.9078713212888019.\n",
      "[I 2023-11-29 22:55:21,295] Trial 25 finished with value: 0.9071685948997941 and parameters: {'N': 294, 'lr': 0.00976288442401074, 'batch_size': 256, 'weight_decay': 3.7207719543119535e-06, 'dropout_p': 0.041433672765527285}. Best is trial 14 with value: 0.9078713212888019.\n",
      "[I 2023-11-29 22:55:24,319] Trial 26 finished with value: 0.8923138293853664 and parameters: {'N': 450, 'lr': 0.016542791415756063, 'batch_size': 32, 'weight_decay': 0.00035235970130627836, 'dropout_p': 0.026111856097576602}. Best is trial 14 with value: 0.9078713212888019.\n",
      "[I 2023-11-29 22:55:26,081] Trial 27 finished with value: 0.8990358666471913 and parameters: {'N': 312, 'lr': 0.04749100192900445, 'batch_size': 64, 'weight_decay': 6.599419240131232e-06, 'dropout_p': 0.10824467962717867}. Best is trial 14 with value: 0.9078713212888019.\n",
      "[I 2023-11-29 22:55:27,397] Trial 28 finished with value: 0.9088726258052493 and parameters: {'N': 389, 'lr': 0.010036290511709864, 'batch_size': 128, 'weight_decay': 2.6504858949602255e-06, 'dropout_p': 0.044752278964752215}. Best is trial 28 with value: 0.9088726258052493.\n",
      "[I 2023-11-29 22:55:28,715] Trial 29 finished with value: 0.9054757455638885 and parameters: {'N': 374, 'lr': 0.009759748056959188, 'batch_size': 128, 'weight_decay': 2.126622230763792e-06, 'dropout_p': 0.1747469516611918}. Best is trial 28 with value: 0.9088726258052493.\n",
      "[I 2023-11-29 22:55:30,125] Trial 30 finished with value: 0.8991807233770354 and parameters: {'N': 480, 'lr': 0.0969331983184016, 'batch_size': 128, 'weight_decay': 3.451347247608222e-05, 'dropout_p': 0.10749354742737177}. Best is trial 28 with value: 0.9088726258052493.\n",
      "[I 2023-11-29 22:55:31,411] Trial 31 finished with value: 0.9056279559385718 and parameters: {'N': 418, 'lr': 0.01206482181720234, 'batch_size': 128, 'weight_decay': 2.305536723679518e-06, 'dropout_p': 0.046156417235992196}. Best is trial 28 with value: 0.9088726258052493.\n",
      "[I 2023-11-29 22:55:34,031] Trial 32 finished with value: 0.9010872313527181 and parameters: {'N': 347, 'lr': 0.0032395137785092595, 'batch_size': 32, 'weight_decay': 5.8123064011945544e-05, 'dropout_p': 0.03810001550059039}. Best is trial 28 with value: 0.9088726258052493.\n",
      "[I 2023-11-29 22:55:35,074] Trial 33 finished with value: 0.9037980064571046 and parameters: {'N': 239, 'lr': 0.02173660657808267, 'batch_size': 128, 'weight_decay': 4.047731928750774e-06, 'dropout_p': 0.04278596589217076}. Best is trial 28 with value: 0.9088726258052493.\n",
      "[I 2023-11-29 22:55:36,319] Trial 34 finished with value: 0.905769689887731 and parameters: {'N': 401, 'lr': 0.009617539528098254, 'batch_size': 256, 'weight_decay': 2.023007524450717e-05, 'dropout_p': 0.01096786066599631}. Best is trial 28 with value: 0.9088726258052493.\n",
      "[I 2023-11-29 22:55:37,305] Trial 35 finished with value: 0.9079611767846439 and parameters: {'N': 195, 'lr': 0.0015492080414154538, 'batch_size': 128, 'weight_decay': 7.588098314258462e-07, 'dropout_p': 0.07979724177778678}. Best is trial 28 with value: 0.9088726258052493.\n",
      "[I 2023-11-29 22:55:38,414] Trial 36 finished with value: 0.9045062732634569 and parameters: {'N': 148, 'lr': 0.0010837368500398296, 'batch_size': 128, 'weight_decay': 4.959610864909082e-07, 'dropout_p': 0.0929252495458123}. Best is trial 28 with value: 0.9088726258052493.\n",
      "[I 2023-11-29 22:55:39,393] Trial 37 finished with value: 0.9063157735681799 and parameters: {'N': 189, 'lr': 0.001658425883765683, 'batch_size': 128, 'weight_decay': 8.9074253723813e-07, 'dropout_p': 0.125983715995658}. Best is trial 28 with value: 0.9088726258052493.\n",
      "[I 2023-11-29 22:55:40,558] Trial 38 finished with value: 0.9041909731491228 and parameters: {'N': 213, 'lr': 0.0006477804931101707, 'batch_size': 128, 'weight_decay': 2.0598520104557933e-07, 'dropout_p': 0.0022861536076279054}. Best is trial 28 with value: 0.9088726258052493.\n",
      "[I 2023-11-29 22:55:42,831] Trial 39 finished with value: 0.9029540497932418 and parameters: {'N': 163, 'lr': 0.004631374552715876, 'batch_size': 32, 'weight_decay': 6.679702855713477e-05, 'dropout_p': 0.1708518035983918}. Best is trial 28 with value: 0.9088726258052493.\n",
      "[I 2023-11-29 22:55:44,218] Trial 40 finished with value: 0.9075463506278302 and parameters: {'N': 432, 'lr': 0.0033638870928121714, 'batch_size': 128, 'weight_decay': 9.939800276457213e-06, 'dropout_p': 0.08732018563594275}. Best is trial 28 with value: 0.9088726258052493.\n",
      "[I 2023-11-29 22:55:45,639] Trial 41 finished with value: 0.9068309316463602 and parameters: {'N': 430, 'lr': 0.002749797571331207, 'batch_size': 128, 'weight_decay': 1.0262838192666487e-05, 'dropout_p': 0.06844087158067191}. Best is trial 28 with value: 0.9088726258052493.\n",
      "[I 2023-11-29 22:55:46,533] Trial 42 finished with value: 0.9049909086788119 and parameters: {'N': 97, 'lr': 0.0015754842053906054, 'batch_size': 128, 'weight_decay': 3.0344598806205978e-05, 'dropout_p': 0.08669134380836363}. Best is trial 28 with value: 0.9088726258052493.\n",
      "[I 2023-11-29 22:55:48,140] Trial 43 finished with value: 0.9060040999088349 and parameters: {'N': 470, 'lr': 0.0034995273684033774, 'batch_size': 128, 'weight_decay': 1.7834598299869569e-06, 'dropout_p': 0.1171570678512833}. Best is trial 28 with value: 0.9088726258052493.\n",
      "[I 2023-11-29 22:55:49,479] Trial 44 finished with value: 0.9029369248669041 and parameters: {'N': 368, 'lr': 0.005472070595409376, 'batch_size': 128, 'weight_decay': 5.744147948095523e-07, 'dropout_p': 0.08884862138372784}. Best is trial 28 with value: 0.9088726258052493.\n",
      "[I 2023-11-29 22:55:51,211] Trial 45 finished with value: 0.9066286560458545 and parameters: {'N': 392, 'lr': 0.0008474144872604933, 'batch_size': 64, 'weight_decay': 7.809610907999388e-06, 'dropout_p': 0.1470442081702156}. Best is trial 28 with value: 0.9088726258052493.\n",
      "[I 2023-11-29 22:55:52,605] Trial 46 finished with value: 0.9054980079681275 and parameters: {'N': 452, 'lr': 0.0023099333564210525, 'batch_size': 128, 'weight_decay': 9.556430746316323e-05, 'dropout_p': 0.05013629948030615}. Best is trial 28 with value: 0.9088726258052493.\n",
      "[I 2023-11-29 22:55:53,859] Trial 47 finished with value: 0.8932609385466982 and parameters: {'N': 322, 'lr': 0.05976060962938709, 'batch_size': 128, 'weight_decay': 0.00046456085605885676, 'dropout_p': 0.10623747923564651}. Best is trial 28 with value: 0.9088726258052493.\n",
      "[I 2023-11-29 22:55:56,821] Trial 48 finished with value: 0.9034636674540775 and parameters: {'N': 484, 'lr': 0.017075189335668265, 'batch_size': 32, 'weight_decay': 1.8588722942663452e-07, 'dropout_p': 0.23653014613030476}. Best is trial 28 with value: 0.9088726258052493.\n",
      "[I 2023-11-29 22:55:58,295] Trial 49 finished with value: 0.9072933046574762 and parameters: {'N': 437, 'lr': 0.001606936157997026, 'batch_size': 128, 'weight_decay': 3.938014081761592e-06, 'dropout_p': 0.08365450300681998}. Best is trial 28 with value: 0.9088726258052493.\n",
      "[I 2023-11-29 22:55:58,296] A new study created in memory with name: no-name-0960fc85-426a-43ed-b642-3bddf420261a\n",
      "[I 2023-11-29 22:56:00,225] Trial 0 finished with value: 0.8850421827229641 and parameters: {'N': 442, 'lr': 0.015656939592764364, 'batch_size': 64, 'weight_decay': 0.0009855321498824041, 'dropout_p': 0.3839915879209261}. Best is trial 0 with value: 0.8850421827229641.\n",
      "[I 2023-11-29 22:56:01,357] Trial 1 finished with value: 0.9057235533214801 and parameters: {'N': 243, 'lr': 0.0581187074711256, 'batch_size': 128, 'weight_decay': 8.009479587735841e-09, 'dropout_p': 0.08360454214862928}. Best is trial 1 with value: 0.9057235533214801.\n",
      "[I 2023-11-29 22:56:02,985] Trial 2 finished with value: 0.8977118076367098 and parameters: {'N': 198, 'lr': 0.03446534603996136, 'batch_size': 64, 'weight_decay': 6.519591789283371e-05, 'dropout_p': 0.40656441020995965}. Best is trial 1 with value: 0.9057235533214801.\n",
      "[I 2023-11-29 22:56:05,075] Trial 3 finished with value: 0.9024014183468402 and parameters: {'N': 47, 'lr': 0.000548747296072979, 'batch_size': 32, 'weight_decay': 2.1100349067691078e-10, 'dropout_p': 0.12002484898043658}. Best is trial 1 with value: 0.9057235533214801.\n",
      "[I 2023-11-29 22:56:05,907] Trial 4 finished with value: 0.9081932699039492 and parameters: {'N': 199, 'lr': 0.005802950615925733, 'batch_size': 256, 'weight_decay': 1.6753748771699742e-06, 'dropout_p': 0.01099521018806443}. Best is trial 4 with value: 0.9081932699039492.\n",
      "[I 2023-11-29 22:56:06,915] Trial 5 finished with value: 0.8951116394094922 and parameters: {'N': 160, 'lr': 0.0002711958687507992, 'batch_size': 128, 'weight_decay': 0.00015086604629015957, 'dropout_p': 0.3182989199020566}. Best is trial 4 with value: 0.9081932699039492.\n",
      "[I 2023-11-29 22:56:09,068] Trial 6 finished with value: 0.9011784971366115 and parameters: {'N': 87, 'lr': 0.0004397719952244197, 'batch_size': 32, 'weight_decay': 1.5837597827902394e-10, 'dropout_p': 0.41555258169384357}. Best is trial 4 with value: 0.9081932699039492.\n",
      "[I 2023-11-29 22:56:11,310] Trial 7 finished with value: 0.9027598329816009 and parameters: {'N': 208, 'lr': 0.03595946509031603, 'batch_size': 32, 'weight_decay': 2.799211198753101e-07, 'dropout_p': 0.047927292204812844}. Best is trial 4 with value: 0.9081932699039492.\n",
      "[I 2023-11-29 22:56:14,105] Trial 8 finished with value: 0.8987721427815917 and parameters: {'N': 412, 'lr': 0.05143797992727238, 'batch_size': 32, 'weight_decay': 4.870815603371269e-07, 'dropout_p': 0.27718079213086094}. Best is trial 4 with value: 0.9081932699039492.\n",
      "[I 2023-11-29 22:56:16,279] Trial 9 finished with value: 0.9067166983142021 and parameters: {'N': 144, 'lr': 0.00046595314689575973, 'batch_size': 32, 'weight_decay': 4.2077498135247136e-10, 'dropout_p': 0.16540957318388483}. Best is trial 4 with value: 0.9081932699039492.\n",
      "[I 2023-11-29 22:56:19,103] Trial 10 finished with value: 0.9057198261316302 and parameters: {'N': 440, 'lr': 0.017852934300741093, 'batch_size': 32, 'weight_decay': 1.6920384560340314e-07, 'dropout_p': 0.48261870663083956}. Best is trial 4 with value: 0.9081932699039492.\n",
      "[I 2023-11-29 22:56:20,161] Trial 11 finished with value: 0.9052921059126326 and parameters: {'N': 339, 'lr': 0.0008007360876031019, 'batch_size': 256, 'weight_decay': 3.154540855715751e-09, 'dropout_p': 0.4519286704190212}. Best is trial 4 with value: 0.9081932699039492.\n",
      "[I 2023-11-29 22:56:21,144] Trial 12 finished with value: 0.9040131761197939 and parameters: {'N': 107, 'lr': 0.0016823833726617762, 'batch_size': 128, 'weight_decay': 0.0005452449344473296, 'dropout_p': 0.4238409631914637}. Best is trial 4 with value: 0.9081932699039492.\n",
      "[I 2023-11-29 22:56:22,231] Trial 13 finished with value: 0.9045021431341635 and parameters: {'N': 150, 'lr': 0.0012445875167801568, 'batch_size': 128, 'weight_decay': 4.216636365663862e-06, 'dropout_p': 0.4303746551993182}. Best is trial 4 with value: 0.9081932699039492.\n",
      "[I 2023-11-29 22:56:24,741] Trial 14 finished with value: 0.8888593288036224 and parameters: {'N': 424, 'lr': 1.2317366036489402e-05, 'batch_size': 32, 'weight_decay': 4.593508199053198e-06, 'dropout_p': 0.08839539868582508}. Best is trial 4 with value: 0.9081932699039492.\n",
      "[I 2023-11-29 22:56:25,901] Trial 15 finished with value: 0.9014228799089355 and parameters: {'N': 79, 'lr': 0.0011007827463513867, 'batch_size': 128, 'weight_decay': 1.430076928132559e-09, 'dropout_p': 0.2528235123218629}. Best is trial 4 with value: 0.9081932699039492.\n",
      "[I 2023-11-29 22:56:26,692] Trial 16 finished with value: 0.9066105237709088 and parameters: {'N': 93, 'lr': 0.012261835369133294, 'batch_size': 128, 'weight_decay': 3.6612407756612434e-10, 'dropout_p': 0.1481647505968401}. Best is trial 4 with value: 0.9081932699039492.\n",
      "[I 2023-11-29 22:56:27,784] Trial 17 finished with value: 0.9084964818349863 and parameters: {'N': 103, 'lr': 0.005274959155349788, 'batch_size': 128, 'weight_decay': 5.563210593200074e-05, 'dropout_p': 0.05089986494418647}. Best is trial 17 with value: 0.9084964818349863.\n",
      "[I 2023-11-29 22:56:28,086] Trial 18 finished with value: 0.8821388025647094 and parameters: {'N': 77, 'lr': 0.0002686954326431219, 'batch_size': 256, 'weight_decay': 0.0007114441609544833, 'dropout_p': 0.1752387489054124}. Best is trial 17 with value: 0.9084964818349863.\n",
      "[I 2023-11-29 22:56:28,893] Trial 19 finished with value: 0.9043792466039761 and parameters: {'N': 172, 'lr': 0.03001071315203517, 'batch_size': 128, 'weight_decay': 0.00014760736671791606, 'dropout_p': 0.07470357361117996}. Best is trial 17 with value: 0.9084964818349863.\n",
      "[I 2023-11-29 22:56:30,422] Trial 20 finished with value: 0.903961801340781 and parameters: {'N': 128, 'lr': 0.0015683978800263266, 'batch_size': 64, 'weight_decay': 2.8322470894797457e-06, 'dropout_p': 0.07789750142324148}. Best is trial 17 with value: 0.9084964818349863.\n",
      "[I 2023-11-29 22:56:31,334] Trial 21 finished with value: 0.9056873895064496 and parameters: {'N': 384, 'lr': 0.003890285965592234, 'batch_size': 256, 'weight_decay': 2.616717634513521e-09, 'dropout_p': 0.38635590426209426}. Best is trial 17 with value: 0.9084964818349863.\n",
      "[I 2023-11-29 22:56:33,553] Trial 22 finished with value: 0.9024235800162183 and parameters: {'N': 242, 'lr': 0.07413011723475404, 'batch_size': 32, 'weight_decay': 4.173486362284201e-07, 'dropout_p': 0.3981853398166462}. Best is trial 17 with value: 0.9084964818349863.\n",
      "[I 2023-11-29 22:56:34,804] Trial 23 finished with value: 0.7091230526692219 and parameters: {'N': 41, 'lr': 4.228331738229977e-05, 'batch_size': 64, 'weight_decay': 5.787074669510083e-06, 'dropout_p': 0.36582950281621596}. Best is trial 17 with value: 0.9084964818349863.\n",
      "[I 2023-11-29 22:56:36,124] Trial 24 finished with value: 0.8939024181403336 and parameters: {'N': 290, 'lr': 0.00014158074134935176, 'batch_size': 128, 'weight_decay': 1.4158887455852546e-07, 'dropout_p': 0.35488441347487526}. Best is trial 17 with value: 0.9084964818349863.\n",
      "[I 2023-11-29 22:56:37,171] Trial 25 finished with value: 0.9068976181242162 and parameters: {'N': 129, 'lr': 0.006779744399185212, 'batch_size': 128, 'weight_decay': 8.728937917640619e-10, 'dropout_p': 0.2165654967634706}. Best is trial 17 with value: 0.9084964818349863.\n",
      "[I 2023-11-29 22:56:38,194] Trial 26 finished with value: 0.9038395092197582 and parameters: {'N': 104, 'lr': 0.01274596443833978, 'batch_size': 128, 'weight_decay': 0.0004755523386738875, 'dropout_p': 0.47991344920044815}. Best is trial 17 with value: 0.9084964818349863.\n",
      "[I 2023-11-29 22:56:39,504] Trial 27 finished with value: 0.8974162515550943 and parameters: {'N': 414, 'lr': 0.00010824045505955652, 'batch_size': 128, 'weight_decay': 0.0002299231440588742, 'dropout_p': 0.3306703358820812}. Best is trial 17 with value: 0.9084964818349863.\n",
      "[I 2023-11-29 22:56:40,417] Trial 28 finished with value: 0.903518970892662 and parameters: {'N': 201, 'lr': 0.05440056924198661, 'batch_size': 128, 'weight_decay': 1.498637725817307e-06, 'dropout_p': 0.305732979537532}. Best is trial 17 with value: 0.9084964818349863.\n",
      "[I 2023-11-29 22:56:41,993] Trial 29 finished with value: 0.9050770369848041 and parameters: {'N': 510, 'lr': 0.013229003311778762, 'batch_size': 128, 'weight_decay': 4.806111989575226e-10, 'dropout_p': 0.33197389530684407}. Best is trial 17 with value: 0.9084964818349863.\n",
      "[I 2023-11-29 22:56:42,721] Trial 30 finished with value: 0.8933336691162026 and parameters: {'N': 109, 'lr': 0.000181767367883892, 'batch_size': 128, 'weight_decay': 3.5686012519000077e-06, 'dropout_p': 0.031191626098168612}. Best is trial 17 with value: 0.9084964818349863.\n",
      "[I 2023-11-29 22:56:44,249] Trial 31 finished with value: 0.9016753214701245 and parameters: {'N': 40, 'lr': 0.0008403862338020305, 'batch_size': 64, 'weight_decay': 1.7725021685878809e-09, 'dropout_p': 0.3265560558967755}. Best is trial 17 with value: 0.9084964818349863.\n",
      "[I 2023-11-29 22:56:45,974] Trial 32 finished with value: 0.8638804075732468 and parameters: {'N': 263, 'lr': 1.487424344809e-05, 'batch_size': 64, 'weight_decay': 5.984766289093898e-07, 'dropout_p': 0.4372475510373388}. Best is trial 17 with value: 0.9084964818349863.\n",
      "[I 2023-11-29 22:56:47,304] Trial 33 finished with value: 0.9006033010813888 and parameters: {'N': 419, 'lr': 0.03281772372219739, 'batch_size': 128, 'weight_decay': 3.966458724118844e-10, 'dropout_p': 0.2056690826221067}. Best is trial 17 with value: 0.9084964818349863.\n",
      "[I 2023-11-29 22:56:49,602] Trial 34 finished with value: 0.9063361220100634 and parameters: {'N': 468, 'lr': 0.00046279223982729746, 'batch_size': 64, 'weight_decay': 2.781536397814273e-07, 'dropout_p': 0.14631062495372843}. Best is trial 17 with value: 0.9084964818349863.\n",
      "[I 2023-11-29 22:56:51,229] Trial 35 finished with value: 0.9061052377090877 and parameters: {'N': 184, 'lr': 0.00718078065644482, 'batch_size': 64, 'weight_decay': 6.29198835701465e-05, 'dropout_p': 0.2202888911296429}. Best is trial 17 with value: 0.9084964818349863.\n",
      "[I 2023-11-29 22:56:51,517] Trial 36 finished with value: 0.7114585904170927 and parameters: {'N': 40, 'lr': 1.3381290095670136e-05, 'batch_size': 256, 'weight_decay': 0.0004054687378505673, 'dropout_p': 0.21430365372270616}. Best is trial 17 with value: 0.9084964818349863.\n",
      "[I 2023-11-29 22:56:53,009] Trial 37 finished with value: 0.9062498929692103 and parameters: {'N': 406, 'lr': 0.00027151725830882754, 'batch_size': 64, 'weight_decay': 1.0677226032632859e-07, 'dropout_p': 0.16086450871871277}. Best is trial 17 with value: 0.9084964818349863.\n",
      "[I 2023-11-29 22:56:54,203] Trial 38 finished with value: 0.9043765267627342 and parameters: {'N': 185, 'lr': 0.0033851709720833837, 'batch_size': 64, 'weight_decay': 1.386703808613754e-09, 'dropout_p': 0.08276683604813762}. Best is trial 17 with value: 0.9084964818349863.\n",
      "[I 2023-11-29 22:56:54,980] Trial 39 finished with value: 0.9082353770757678 and parameters: {'N': 70, 'lr': 0.004870976506212185, 'batch_size': 128, 'weight_decay': 0.0004268340545520105, 'dropout_p': 0.019532929181339087}. Best is trial 17 with value: 0.9084964818349863.\n",
      "[I 2023-11-29 22:56:56,322] Trial 40 finished with value: 0.9004517958507311 and parameters: {'N': 357, 'lr': 0.00952460937847942, 'batch_size': 128, 'weight_decay': 0.0006403620331449181, 'dropout_p': 0.11659109448297394}. Best is trial 17 with value: 0.9084964818349863.\n",
      "[I 2023-11-29 22:56:57,356] Trial 41 finished with value: 0.9068281110702576 and parameters: {'N': 463, 'lr': 0.022864947110219885, 'batch_size': 256, 'weight_decay': 4.7758986180073034e-05, 'dropout_p': 0.4545877190763529}. Best is trial 17 with value: 0.9084964818349863.\n",
      "[I 2023-11-29 22:56:58,641] Trial 42 finished with value: 0.9069105121864 and parameters: {'N': 278, 'lr': 0.0009678310242924896, 'batch_size': 64, 'weight_decay': 2.9532240734608352e-08, 'dropout_p': 0.04187250242449353}. Best is trial 17 with value: 0.9084964818349863.\n",
      "[I 2023-11-29 22:57:00,205] Trial 43 finished with value: 0.861075546108864 and parameters: {'N': 196, 'lr': 1.7775809810686013e-05, 'batch_size': 64, 'weight_decay': 1.59050044483111e-05, 'dropout_p': 0.3101148886762822}. Best is trial 17 with value: 0.9084964818349863.\n",
      "[I 2023-11-29 22:57:01,970] Trial 44 finished with value: 0.8927338937549424 and parameters: {'N': 474, 'lr': 0.05426709110931571, 'batch_size': 64, 'weight_decay': 0.00023122668717527424, 'dropout_p': 0.4133292168278117}. Best is trial 17 with value: 0.9084964818349863.\n",
      "[I 2023-11-29 22:57:03,167] Trial 45 finished with value: 0.9059805279514055 and parameters: {'N': 500, 'lr': 0.018158449951023673, 'batch_size': 128, 'weight_decay': 2.0958812026100305e-06, 'dropout_p': 0.36079234679327576}. Best is trial 17 with value: 0.9084964818349863.\n",
      "[I 2023-11-29 22:57:04,690] Trial 46 finished with value: 0.9040413818808206 and parameters: {'N': 191, 'lr': 0.03529044294899904, 'batch_size': 64, 'weight_decay': 3.944535414502206e-09, 'dropout_p': 0.33982109275701305}. Best is trial 17 with value: 0.9084964818349863.\n",
      "[I 2023-11-29 22:57:05,778] Trial 47 finished with value: 0.9013717065996444 and parameters: {'N': 454, 'lr': 0.00016617362053188958, 'batch_size': 256, 'weight_decay': 0.0003247420234190885, 'dropout_p': 0.19985301679458856}. Best is trial 17 with value: 0.9084964818349863.\n",
      "[I 2023-11-29 22:57:06,477] Trial 48 finished with value: 0.7716193632549446 and parameters: {'N': 332, 'lr': 1.0207454378631348e-05, 'batch_size': 256, 'weight_decay': 5.62254224483184e-08, 'dropout_p': 0.450438113135944}. Best is trial 17 with value: 0.9084964818349863.\n",
      "[I 2023-11-29 22:57:09,168] Trial 49 finished with value: 0.9068875446381354 and parameters: {'N': 308, 'lr': 0.002531261212098123, 'batch_size': 32, 'weight_decay': 1.8108868448840216e-06, 'dropout_p': 0.38933532583434544}. Best is trial 17 with value: 0.9084964818349863.\n"
     ]
    },
    {
     "name": "stdout",
     "output_type": "stream",
     "text": [
      "Best trial (TPE):\n",
      "{'N': 389, 'lr': 0.010036290511709864, 'batch_size': 128, 'weight_decay': 2.6504858949602255e-06, 'dropout_p': 0.044752278964752215}\n",
      "Accuracy: 0.9088726258052493\n",
      "\n",
      "Best trial (Random Search):\n",
      "{'N': 103, 'lr': 0.005274959155349788, 'batch_size': 128, 'weight_decay': 5.563210593200074e-05, 'dropout_p': 0.05089986494418647}\n",
      "Accuracy: 0.9084964818349863\n"
     ]
    }
   ],
   "source": [
    "import optuna\n",
    "\n",
    "\n",
    "input_size = X_train.shape[1]\n",
    "\n",
    "\n",
    "def objective(trial):\n",
    "    N = trial.suggest_int(\"N\", 32, 512)\n",
    "    lr = trial.suggest_float(\"lr\", 1e-5, 1e-1, log=True)\n",
    "    batch_size = trial.suggest_categorical(\"batch_size\", [32, 64, 128, 256])\n",
    "    weight_decay = trial.suggest_float(\"weight_decay\", 1e-10, 1e-3, log=True)\n",
    "    dropout_p = trial.suggest_float(\"dropout_p\", 0.0, 0.5)\n",
    "\n",
    "    model = NormalizingMLP(input_size=input_size, dropout_p=dropout_p, hidden_size=N)\n",
    "    optimizer = optim.Adam(model.parameters(), lr=lr, weight_decay=weight_decay)\n",
    "    loss_fn = nn.BCEWithLogitsLoss()\n",
    "\n",
    "    train_dataloader = DataLoader(train_dataset, batch_size=batch_size, shuffle=True)\n",
    "\n",
    "    steps_without_improvement = 0\n",
    "\n",
    "    best_val_loss = np.inf\n",
    "    early_stopping_patience = 10\n",
    "\n",
    "    for epoch_num in range(300):\n",
    "        model.train()\n",
    "\n",
    "        for X_batch, y_batch in train_dataloader:\n",
    "            y_pred = model(X_batch)\n",
    "            loss = loss_fn(y_pred, y_batch)\n",
    "\n",
    "            optimizer.zero_grad()\n",
    "            loss.backward()\n",
    "            optimizer.step()\n",
    "\n",
    "        valid_metrics = evaluate_model(model, X_valid, y_valid, loss_fn)\n",
    "        val_loss = valid_metrics[\"loss\"]\n",
    "\n",
    "        if val_loss < best_val_loss:\n",
    "            steps_without_improvement = 0\n",
    "        else:\n",
    "            steps_without_improvement += 1\n",
    "\n",
    "        if steps_without_improvement >= early_stopping_patience:\n",
    "            print(\"Early stopping triggered\")\n",
    "            break\n",
    "\n",
    "        return valid_metrics[\"AUROC\"]\n",
    "\n",
    "\n",
    "study_tpe = optuna.create_study(\n",
    "    direction=\"maximize\", sampler=optuna.samplers.TPESampler()\n",
    ")\n",
    "study_tpe.optimize(objective, n_trials=50)\n",
    "\n",
    "\n",
    "study_random = optuna.create_study(\n",
    "    direction=\"maximize\", sampler=optuna.samplers.RandomSampler()\n",
    ")\n",
    "study_random.optimize(objective, n_trials=50)\n",
    "\n",
    "best_trial_tpe = study_tpe.best_trial\n",
    "best_trial_random = study_random.best_trial\n",
    "\n",
    "print(\"Best trial (TPE):\")\n",
    "print(best_trial_tpe.params)\n",
    "print(\"Accuracy:\", best_trial_tpe.value)\n",
    "\n",
    "print(\"\\nBest trial (Random Search):\")\n",
    "print(best_trial_random.params)\n",
    "print(\"Accuracy:\", best_trial_random.value)"
   ]
  },
  {
   "cell_type": "markdown",
   "source": [
    "W eksperymencie z użyciem biblioteki Optuna, algorytm Tree Parzen Estimator (TPE) okazał się nieznacznie skuteczniejszy niż losowe przeszukiwanie (Random Search) w optymalizacji hiperparametrów trójwarstwowej sieci MLP. TPE osiągnął dokładność 90.88%, podczas gdy Random Search uzyskał 90.84%. Różnica ta, choć niewielka, wskazuje na większą efektywność TPE w znajdowaniu optymalnych parametrów. Wyniki te podkreślają znaczenie inteligentnych metod przeszukiwania, takich jak TPE, które mogą skuteczniej dostosowywać hiperparametry do specyfiki danego problemu."
   ],
   "metadata": {
    "collapsed": false
   }
  }
 ],
 "metadata": {
  "colab": {
   "collapsed_sections": [],
   "provenance": []
  },
  "kernelspec": {
   "display_name": "Python 3 (ipykernel)",
   "language": "python",
   "name": "python3"
  },
  "language_info": {
   "codemirror_mode": {
    "name": "ipython",
    "version": 3
   },
   "file_extension": ".py",
   "mimetype": "text/x-python",
   "name": "python",
   "nbconvert_exporter": "python",
   "pygments_lexer": "ipython3",
   "version": "3.11.5"
  },
  "vscode": {
   "interpreter": {
    "hash": "a5d7af91182035c53be6efb3f9b18ffc3e259c9c524705249407647c970de949"
   }
  }
 },
 "nbformat": 4,
 "nbformat_minor": 1
}
